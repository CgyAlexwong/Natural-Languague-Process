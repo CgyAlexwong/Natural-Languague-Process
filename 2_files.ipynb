{
 "cells": [
  {
   "cell_type": "markdown",
   "metadata": {},
   "source": [
    "# working with Files\n",
    "Where am I? Find out with pwd\n",
    "\n",
    "##### % work with python (也可以不加)\n",
    "##### ! work with the computer"
   ]
  },
  {
   "cell_type": "code",
   "execution_count": 2,
   "metadata": {},
   "outputs": [
    {
     "data": {
      "text/plain": [
       "'/Users/camellia/Documents/Berkeley_DIGHUM'"
      ]
     },
     "execution_count": 2,
     "metadata": {},
     "output_type": "execute_result"
    }
   ],
   "source": [
    "%pwd # Print working dirctory"
   ]
  },
  {
   "cell_type": "code",
   "execution_count": 3,
   "metadata": {},
   "outputs": [
    {
     "data": {
      "text/plain": [
       "'/Users/camellia/Documents/Berkeley_DIGHUM'"
      ]
     },
     "execution_count": 3,
     "metadata": {},
     "output_type": "execute_result"
    }
   ],
   "source": [
    "pwd"
   ]
  },
  {
   "cell_type": "code",
   "execution_count": 2,
   "metadata": {},
   "outputs": [
    {
     "name": "stdout",
     "output_type": "stream",
     "text": [
      "1_intro_python.ipynb  \u001b[34mHW\u001b[m\u001b[m/                   \u001b[34mresources\u001b[m\u001b[m/\n",
      "2_files.ipynb         \u001b[34mpython\u001b[m\u001b[m/\n"
     ]
    }
   ],
   "source": [
    "ls # List files"
   ]
  },
  {
   "cell_type": "markdown",
   "metadata": {},
   "source": [
    "## download a file via the url"
   ]
  },
  {
   "cell_type": "code",
   "execution_count": 6,
   "metadata": {},
   "outputs": [
    {
     "name": "stdout",
     "output_type": "stream",
     "text": [
      "/bin/sh: wget: command not found\n",
      "curl: no URL specified!\n",
      "curl: try 'curl --help' or 'curl --manual' for more information\n"
     ]
    }
   ],
   "source": [
    "# download something from the url(a linux command?)\n",
    "# on Linux\n",
    "!wget \"https://github.com/JonathanReeve/course-computational-literary-analysis/tree/master/Texts!\"\n",
    "\n",
    "# on MasOs\n",
    "!curl -o 'https://raw.githubusercontent.com/JonathanReeve/course-computational-literary-analysis/master/Texts/moonstone.md'\n"
   ]
  },
  {
   "cell_type": "markdown",
   "metadata": {},
   "source": [
    "### Use request"
   ]
  },
  {
   "cell_type": "code",
   "execution_count": 8,
   "metadata": {},
   "outputs": [
    {
     "data": {
      "text/plain": [
       "1072272"
      ]
     },
     "execution_count": 8,
     "metadata": {},
     "output_type": "execute_result"
    }
   ],
   "source": [
    "url = \"https://raw.githubusercontent.com/JonathanReeve/course-computational-literary-analysis/master/Texts/moonstone.md\"\n",
    "import requests\n",
    "moonstone = requests.get(url).text\n",
    "len(moonstone)"
   ]
  },
  {
   "cell_type": "markdown",
   "metadata": {},
   "source": [
    "## delete"
   ]
  },
  {
   "cell_type": "code",
   "execution_count": 31,
   "metadata": {},
   "outputs": [
    {
     "name": "stdout",
     "output_type": "stream",
     "text": [
      "usage: rm [-f | -i] [-dPRrvW] file ...\n",
      "       unlink file\n"
     ]
    }
   ],
   "source": [
    "rm # delete the file/directory"
   ]
  },
  {
   "cell_type": "code",
   "execution_count": 7,
   "metadata": {},
   "outputs": [
    {
     "name": "stdout",
     "output_type": "stream",
     "text": [
      "2019暑期赴美国UC-Berkeley交流项目打印表.pdf\n",
      "C5D4D152C67324407940F098DE6D9297.jpeg\n",
      "\u001b[34mSEVIS\u001b[m\u001b[m/\n",
      "\u001b[34mVISA\u001b[m\u001b[m/\n",
      "\u001b[34mVISI \u001b[m\u001b[m/\n",
      "\u001b[34m学费\u001b[m\u001b[m/\n",
      "\u001b[34m宿舍\u001b[m\u001b[m/\n",
      "\u001b[34m选课\u001b[m\u001b[m/\n",
      "\u001b[34m🇺🇸\u001b[m\u001b[m/\n",
      "\u001b[34m财产证明\u001b[m\u001b[m/\n",
      "\u001b[31m出国申请.pages\u001b[m\u001b[m*\n"
     ]
    }
   ],
   "source": [
    "ls ~/Desktop/UC-Berkley"
   ]
  },
  {
   "cell_type": "markdown",
   "metadata": {},
   "source": [
    "## The read and open file"
   ]
  },
  {
   "cell_type": "code",
   "execution_count": 3,
   "metadata": {},
   "outputs": [],
   "source": [
    "# loading a file\n",
    "fullPath='/Users/camellia/Documents/Berkeley_DIGHUM/moonstone.md'\n",
    "moonstone=open(fullPath).read()\n",
    "\n",
    "# or use a relative path\n",
    "relativePath='./moonstone.md'\n",
    "moonstone=open(relativePath).read()"
   ]
  },
  {
   "cell_type": "code",
   "execution_count": 10,
   "metadata": {},
   "outputs": [
    {
     "data": {
      "text/plain": [
       "str"
      ]
     },
     "execution_count": 10,
     "metadata": {},
     "output_type": "execute_result"
    }
   ],
   "source": [
    "type(moonstone)"
   ]
  },
  {
   "cell_type": "code",
   "execution_count": 11,
   "metadata": {},
   "outputs": [
    {
     "data": {
      "text/plain": [
       "1072273"
      ]
     },
     "execution_count": 11,
     "metadata": {},
     "output_type": "execute_result"
    }
   ],
   "source": [
    "len(moonstone)"
   ]
  },
  {
   "cell_type": "code",
   "execution_count": 12,
   "metadata": {},
   "outputs": [
    {
     "data": {
      "text/plain": [
       "'XV\\n- Second Period\\n- Second Narrative\\n- Third Narrative\\n- Fourth Narrative\\n- Sixth Narrative\\n---\\n\\n## Prologue\\n\\nThe Storming of Seringapatam (1799)\\n\\nExtracted from a Family Paper\\n\\nI address these lines–written in India–to my relatives in England.\\n\\nMy object is to explain the motive which has induced '"
      ]
     },
     "execution_count": 12,
     "metadata": {},
     "output_type": "execute_result"
    }
   ],
   "source": [
    "moonstone[200:500]"
   ]
  },
  {
   "cell_type": "code",
   "execution_count": 13,
   "metadata": {},
   "outputs": [
    {
     "name": "stdout",
     "output_type": "stream",
     "text": [
      "XV\n",
      "- Second Period\n",
      "- Second Narrative\n",
      "- Third Narrative\n",
      "- Fourth Narrative\n",
      "- Sixth Narrative\n",
      "---\n",
      "\n",
      "## Prologue\n",
      "\n",
      "The Storming of Seringapatam (1799)\n",
      "\n",
      "Extracted from a Family Paper\n",
      "\n",
      "I address these lines–written in India–to my relatives in England.\n",
      "\n",
      "My object is to explain the motive which has induced \n"
     ]
    }
   ],
   "source": [
    "print(moonstone[200:500])"
   ]
  },
  {
   "cell_type": "code",
   "execution_count": 4,
   "metadata": {},
   "outputs": [
    {
     "data": {
      "text/plain": [
       "12"
      ]
     },
     "execution_count": 4,
     "metadata": {},
     "output_type": "execute_result"
    }
   ],
   "source": [
    "moonstoneParts=moonstone.split('\\n## ')\n",
    "len(moonstoneParts)"
   ]
  },
  {
   "cell_type": "code",
   "execution_count": 5,
   "metadata": {},
   "outputs": [
    {
     "data": {
      "text/plain": [
       "'Second Period\\n\\nTHE DISCOVERY OF THE TRUTH (1848-1849)\\n\\nThe events related in several narratives.\\n'"
      ]
     },
     "execution_count": 5,
     "metadata": {},
     "output_type": "execute_result"
    }
   ],
   "source": [
    "moonstoneParts[2][-300:]\n",
    "# the end of the first peroid"
   ]
  },
  {
   "cell_type": "code",
   "execution_count": 7,
   "metadata": {},
   "outputs": [],
   "source": [
    "firstPeriod=moonstoneParts[1]\n",
    "firstPeriodParts = firstPeriod.split('\\n### ')"
   ]
  },
  {
   "cell_type": "markdown",
   "metadata": {},
   "source": [
    "#### How long are each of the chapters in the First Period?"
   ]
  },
  {
   "cell_type": "code",
   "execution_count": 9,
   "metadata": {},
   "outputs": [
    {
     "name": "stdout",
     "output_type": "stream",
     "text": [
      "Prologue  \n",
      "                                                                                                            \n",
      "II        \n",
      "                                    XXXX                                XXXXX                               \n",
      "III       \n",
      "                                    XXX                                 XX                                  \n",
      "IV        \n",
      "                                                                        XXX                                 \n",
      "First Period\n",
      "                                                                                                            \n",
      "Chapter I \n",
      "                                    X                                   XXXXXX                              \n",
      "Chapter II\n",
      "                                                                        XXX                                 \n",
      "Chapter III\n",
      "                                    X                                   XX                                  \n",
      "Chapter IV\n",
      "                                                                        X                                   \n",
      "Chapter V \n",
      "                                    XX                                  XXXXXXXXXXXXX                       \n",
      "Chapter VI\n",
      "                                    XXXXXXXX                            XXXXXXXXXXXXXXXXXXXXXXXXXXXXXX      \n",
      "Chapter VII\n",
      "                                    X                                   XXX                                 \n",
      "Chapter VIII\n",
      "                                    X                                   XXXXXX                              \n",
      "Chapter IX\n",
      "                                    XXXX                                XXXXXXX                             \n",
      "Chapter X \n",
      "                                    XXXXXX                              XXXXXXXXXXX                         \n",
      "Chapter XI\n",
      "                                    XXXXXXXX                            XXXXXXXXXXXXXXXXXXXXXXXXXXX         \n",
      "Chapter XII\n",
      "                                    X                                   XXXXXX                              \n",
      "Chapter XIII\n",
      "                                                                        XXXX                                \n",
      "Chapter XIV\n",
      "                                    X                                   XXXXX                               \n",
      "Chapter XV\n",
      "                                    XX                                  XXXX                                \n",
      "Chapter XVI\n",
      "                                    XXX                                 XXXXXX                              \n",
      "Chapter XVII\n",
      "                                    X                                   X                                   \n",
      "Chapter XVIII\n",
      "                                    XXXX                                XX                                  \n",
      "Chapter XIX\n",
      "                                                                                                            \n",
      "Chapter XX\n",
      "                                    X                                   XX                                  \n",
      "Chapter XXI\n",
      "                                    XXXXXXXX                            XXXXXXXXXX                          \n",
      "Chapter XXII\n",
      "                                    XXXXXXXX                            XXX                                 \n",
      "Chapter XXIII\n",
      "                                    XXXXXXX                             XXXX                                \n"
     ]
    }
   ],
   "source": [
    "for part in firstPeriodParts:\n",
    "    firstLineBreakLocation=part.find('\\n')\n",
    "    chapterHeading=part[:firstLineBreakLocation]\n",
    "    print(\"{:10}\".format(chapterHeading))\n",
    "    wordList=['moonstone','Moonstone','Diamond']\n",
    "    for word in wordList:\n",
    "        wordCount=part.count(word)\n",
    "        print(\"{:35}\".format(\"X\"* wordCount),end=' ')\n",
    "    print()"
   ]
  },
  {
   "cell_type": "markdown",
   "metadata": {},
   "source": [
    "#### compare the narratives between Betteredge's and Clark's"
   ]
  },
  {
   "cell_type": "code",
   "execution_count": 10,
   "metadata": {},
   "outputs": [
    {
     "data": {
      "text/plain": [
       "(442875, 57285)"
      ]
     },
     "execution_count": 10,
     "metadata": {},
     "output_type": "execute_result"
    }
   ],
   "source": [
    "clark=moonstoneParts[4]\n",
    "betteredge=firstPeriod\n",
    "len(betteredge),len(clark)"
   ]
  },
  {
   "cell_type": "code",
   "execution_count": 16,
   "metadata": {},
   "outputs": [
    {
     "name": "stdout",
     "output_type": "stream",
     "text": [
      "213\n",
      "13\n"
     ]
    }
   ],
   "source": [
    "def compare1(wordList,label):\n",
    "    for text in wordList:\n",
    "        print(text.lower().count(label))\n",
    "compare([betteredge,clark],'rachel')"
   ]
  },
  {
   "cell_type": "code",
   "execution_count": 48,
   "metadata": {},
   "outputs": [
    {
     "name": "stdout",
     "output_type": "stream",
     "text": [
      "            Betteredge     clark     \n",
      "diamond    0.0004041773 0.0003491315 \n",
      "godfrey    0.0001174146 0.0002269355 \n",
      "?          0.0009348010 0.0011695906 \n",
      "!          0.0007631950 0.0004713276 \n"
     ]
    }
   ],
   "source": [
    "def compare2(wordList):\n",
    "    print(' '*12+'{:10}     {:10}'.format('Betteredge','clark'))\n",
    "    for word in wordList:\n",
    "        print('{:10}'.format(word), end=\" \")\n",
    "        for text in [betteredge,clark]:\n",
    "            print(\"{:.10f}\".format(text.lower().count(word)/len(text)),end=' ')\n",
    "        print()\n",
    "compare2(['diamond','godfrey','?','!'])"
   ]
  },
  {
   "cell_type": "code",
   "execution_count": null,
   "metadata": {},
   "outputs": [],
   "source": []
  }
 ],
 "metadata": {
  "kernelspec": {
   "display_name": "Python 3",
   "language": "python",
   "name": "python3"
  },
  "language_info": {
   "codemirror_mode": {
    "name": "ipython",
    "version": 3
   },
   "file_extension": ".py",
   "mimetype": "text/x-python",
   "name": "python",
   "nbconvert_exporter": "python",
   "pygments_lexer": "ipython3",
   "version": "3.6.5"
  }
 },
 "nbformat": 4,
 "nbformat_minor": 2
}
