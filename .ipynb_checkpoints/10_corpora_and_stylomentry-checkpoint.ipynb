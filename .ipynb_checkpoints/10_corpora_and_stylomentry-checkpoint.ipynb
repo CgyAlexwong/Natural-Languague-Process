{
 "cells": [
  {
   "cell_type": "code",
   "execution_count": 1,
   "metadata": {},
   "outputs": [],
   "source": [
    "from nltk.corpus import gutenberg, brown, inaugural\n",
    "import pandas as pd\n",
    "import nltk\n",
    "%matplotlib inline"
   ]
  },
  {
   "cell_type": "code",
   "execution_count": 2,
   "metadata": {},
   "outputs": [
    {
     "data": {
      "text/plain": [
       "['austen-emma.txt',\n",
       " 'austen-persuasion.txt',\n",
       " 'austen-sense.txt',\n",
       " 'bible-kjv.txt',\n",
       " 'blake-poems.txt',\n",
       " 'bryant-stories.txt',\n",
       " 'burgess-busterbrown.txt',\n",
       " 'carroll-alice.txt',\n",
       " 'chesterton-ball.txt',\n",
       " 'chesterton-brown.txt',\n",
       " 'chesterton-thursday.txt',\n",
       " 'edgeworth-parents.txt',\n",
       " 'melville-moby_dick.txt',\n",
       " 'milton-paradise.txt',\n",
       " 'shakespeare-caesar.txt',\n",
       " 'shakespeare-hamlet.txt',\n",
       " 'shakespeare-macbeth.txt',\n",
       " 'whitman-leaves.txt']"
      ]
     },
     "execution_count": 2,
     "metadata": {},
     "output_type": "execute_result"
    }
   ],
   "source": [
    "gutenberg.fileids()"
   ]
  },
  {
   "cell_type": "code",
   "execution_count": 3,
   "metadata": {},
   "outputs": [],
   "source": [
    "whitmanWords=gutenberg.words('whitman-leaves.txt')"
   ]
  },
  {
   "cell_type": "code",
   "execution_count": 4,
   "metadata": {},
   "outputs": [
    {
     "data": {
      "text/plain": [
       "154883"
      ]
     },
     "execution_count": 4,
     "metadata": {},
     "output_type": "execute_result"
    }
   ],
   "source": [
    "len(whitmanWords)"
   ]
  },
  {
   "cell_type": "code",
   "execution_count": 5,
   "metadata": {},
   "outputs": [],
   "source": [
    "# this is create a list of lists, with all the tokens for all the texts.\n",
    "allTokens=[]\n",
    "for fileid in gutenberg.fileids():\n",
    "    allTokens.append(gutenberg.words(fileid))"
   ]
  },
  {
   "cell_type": "code",
   "execution_count": 6,
   "metadata": {},
   "outputs": [
    {
     "data": {
      "text/plain": [
       "[['[', 'Emma', 'by', 'Jane', 'Austen', '1816', ']', ...],\n",
       " ['[', 'Persuasion', 'by', 'Jane', 'Austen', '1818', ...],\n",
       " ['[', 'Sense', 'and', 'Sensibility', 'by', 'Jane', ...],\n",
       " ['[', 'The', 'King', 'James', 'Bible', ']', 'The', ...],\n",
       " ['[', 'Poems', 'by', 'William', 'Blake', '1789', ']', ...],\n",
       " ['[', 'Stories', 'to', 'Tell', 'to', 'Children', 'by', ...],\n",
       " ['[', 'The', 'Adventures', 'of', 'Buster', 'Bear', ...],\n",
       " ['[', 'Alice', \"'\", 's', 'Adventures', 'in', ...],\n",
       " ['[', 'The', 'Ball', 'and', 'The', 'Cross', 'by', 'G', ...],\n",
       " ['[', 'The', 'Wisdom', 'of', 'Father', 'Brown', 'by', ...],\n",
       " ['[', 'The', 'Man', 'Who', 'Was', 'Thursday', 'by', ...],\n",
       " ['[', 'The', 'Parent', \"'\", 's', 'Assistant', ',', ...],\n",
       " ['[', 'Moby', 'Dick', 'by', 'Herman', 'Melville', ...],\n",
       " ['[', 'Paradise', 'Lost', 'by', 'John', 'Milton', ...],\n",
       " ['[', 'The', 'Tragedie', 'of', 'Julius', 'Caesar', ...],\n",
       " ['[', 'The', 'Tragedie', 'of', 'Hamlet', 'by', ...],\n",
       " ['[', 'The', 'Tragedie', 'of', 'Macbeth', 'by', ...],\n",
       " ['[', 'Leaves', 'of', 'Grass', 'by', 'Walt', 'Whitman', ...]]"
      ]
     },
     "execution_count": 6,
     "metadata": {},
     "output_type": "execute_result"
    }
   ],
   "source": [
    "allTokens"
   ]
  },
  {
   "cell_type": "code",
   "execution_count": 7,
   "metadata": {},
   "outputs": [],
   "source": [
    "# create a data structure that contains all the stories\n",
    "tokenDict={}\n",
    "for fileId in gutenberg.fileids():\n",
    "    tokenDict[fileId]={\n",
    "        'tokens':gutenberg.words(fileId),\n",
    "        'numTokens':len(gutenberg.words(fileId))}    "
   ]
  },
  {
   "cell_type": "code",
   "execution_count": 8,
   "metadata": {},
   "outputs": [
    {
     "data": {
      "text/plain": [
       "{'austen-emma.txt': {'tokens': ['[', 'Emma', 'by', 'Jane', 'Austen', '1816', ']', ...],\n",
       "  'numTokens': 192427},\n",
       " 'austen-persuasion.txt': {'tokens': ['[', 'Persuasion', 'by', 'Jane', 'Austen', '1818', ...],\n",
       "  'numTokens': 98171},\n",
       " 'austen-sense.txt': {'tokens': ['[', 'Sense', 'and', 'Sensibility', 'by', 'Jane', ...],\n",
       "  'numTokens': 141576},\n",
       " 'bible-kjv.txt': {'tokens': ['[', 'The', 'King', 'James', 'Bible', ']', 'The', ...],\n",
       "  'numTokens': 1010654},\n",
       " 'blake-poems.txt': {'tokens': ['[', 'Poems', 'by', 'William', 'Blake', '1789', ']', ...],\n",
       "  'numTokens': 8354},\n",
       " 'bryant-stories.txt': {'tokens': ['[', 'Stories', 'to', 'Tell', 'to', 'Children', 'by', ...],\n",
       "  'numTokens': 55563},\n",
       " 'burgess-busterbrown.txt': {'tokens': ['[', 'The', 'Adventures', 'of', 'Buster', 'Bear', ...],\n",
       "  'numTokens': 18963},\n",
       " 'carroll-alice.txt': {'tokens': ['[', 'Alice', \"'\", 's', 'Adventures', 'in', ...],\n",
       "  'numTokens': 34110},\n",
       " 'chesterton-ball.txt': {'tokens': ['[', 'The', 'Ball', 'and', 'The', 'Cross', 'by', 'G', ...],\n",
       "  'numTokens': 96996},\n",
       " 'chesterton-brown.txt': {'tokens': ['[', 'The', 'Wisdom', 'of', 'Father', 'Brown', 'by', ...],\n",
       "  'numTokens': 86063},\n",
       " 'chesterton-thursday.txt': {'tokens': ['[', 'The', 'Man', 'Who', 'Was', 'Thursday', 'by', ...],\n",
       "  'numTokens': 69213},\n",
       " 'edgeworth-parents.txt': {'tokens': ['[', 'The', 'Parent', \"'\", 's', 'Assistant', ',', ...],\n",
       "  'numTokens': 210663},\n",
       " 'melville-moby_dick.txt': {'tokens': ['[', 'Moby', 'Dick', 'by', 'Herman', 'Melville', ...],\n",
       "  'numTokens': 260819},\n",
       " 'milton-paradise.txt': {'tokens': ['[', 'Paradise', 'Lost', 'by', 'John', 'Milton', ...],\n",
       "  'numTokens': 96825},\n",
       " 'shakespeare-caesar.txt': {'tokens': ['[', 'The', 'Tragedie', 'of', 'Julius', 'Caesar', ...],\n",
       "  'numTokens': 25833},\n",
       " 'shakespeare-hamlet.txt': {'tokens': ['[', 'The', 'Tragedie', 'of', 'Hamlet', 'by', ...],\n",
       "  'numTokens': 37360},\n",
       " 'shakespeare-macbeth.txt': {'tokens': ['[', 'The', 'Tragedie', 'of', 'Macbeth', 'by', ...],\n",
       "  'numTokens': 23140},\n",
       " 'whitman-leaves.txt': {'tokens': ['[', 'Leaves', 'of', 'Grass', 'by', 'Walt', 'Whitman', ...],\n",
       "  'numTokens': 154883}}"
      ]
     },
     "execution_count": 8,
     "metadata": {},
     "output_type": "execute_result"
    }
   ],
   "source": [
    "tokenDict"
   ]
  },
  {
   "cell_type": "code",
   "execution_count": 9,
   "metadata": {},
   "outputs": [
    {
     "data": {
      "text/plain": [
       "{'tokens': ['[', 'Leaves', 'of', 'Grass', 'by', 'Walt', 'Whitman', ...],\n",
       " 'numTokens': 154883}"
      ]
     },
     "execution_count": 9,
     "metadata": {},
     "output_type": "execute_result"
    }
   ],
   "source": [
    "tokenDict['whitman-leaves.txt']"
   ]
  },
  {
   "cell_type": "code",
   "execution_count": 10,
   "metadata": {},
   "outputs": [],
   "source": [
    "allLength={}\n",
    "for fileId in gutenberg.fileids():\n",
    "    allLength[fileId[:-4]]=len(gutenberg.words(fileId))"
   ]
  },
  {
   "cell_type": "code",
   "execution_count": 11,
   "metadata": {},
   "outputs": [
    {
     "data": {
      "text/plain": [
       "{'austen-emma': 192427,\n",
       " 'austen-persuasion': 98171,\n",
       " 'austen-sense': 141576,\n",
       " 'bible-kjv': 1010654,\n",
       " 'blake-poems': 8354,\n",
       " 'bryant-stories': 55563,\n",
       " 'burgess-busterbrown': 18963,\n",
       " 'carroll-alice': 34110,\n",
       " 'chesterton-ball': 96996,\n",
       " 'chesterton-brown': 86063,\n",
       " 'chesterton-thursday': 69213,\n",
       " 'edgeworth-parents': 210663,\n",
       " 'melville-moby_dick': 260819,\n",
       " 'milton-paradise': 96825,\n",
       " 'shakespeare-caesar': 25833,\n",
       " 'shakespeare-hamlet': 37360,\n",
       " 'shakespeare-macbeth': 23140,\n",
       " 'whitman-leaves': 154883}"
      ]
     },
     "execution_count": 11,
     "metadata": {},
     "output_type": "execute_result"
    }
   ],
   "source": [
    "allLength"
   ]
  },
  {
   "cell_type": "code",
   "execution_count": 12,
   "metadata": {},
   "outputs": [
    {
     "data": {
      "text/plain": [
       "<matplotlib.axes._subplots.AxesSubplot at 0x1a14c16198>"
      ]
     },
     "execution_count": 12,
     "metadata": {},
     "output_type": "execute_result"
    },
    {
     "data": {
      "image/png": "[encoded data removed]",
      "text/plain": [
       "<Figure size 432x288 with 1 Axes>"
      ]
     },
     "metadata": {},
     "output_type": "display_data"
    }
   ],
   "source": [
    "pd.Series(allLength).plot(kind='barh')"
   ]
  },
  {
   "cell_type": "markdown",
   "metadata": {},
   "source": [
    "# Type-token ratio\n",
    "*the the the the the that's all folks*\n",
    "- 9 tokens(folks + !)\n",
    "- 6 types\n",
    "\n",
    "Type/token radio:6/9"
   ]
  },
  {
   "cell_type": "code",
   "execution_count": 13,
   "metadata": {},
   "outputs": [
    {
     "data": {
      "text/plain": [
       "['the', 'the', 'the', 'the', 'the', \"that's\", 'all', 'folks!']"
      ]
     },
     "execution_count": 13,
     "metadata": {},
     "output_type": "execute_result"
    }
   ],
   "source": [
    "porkyWords=\"the the the the the that's all folks!\".split()\n",
    "porkyWords"
   ]
  },
  {
   "cell_type": "code",
   "execution_count": 14,
   "metadata": {},
   "outputs": [
    {
     "data": {
      "text/plain": [
       "{'all', 'folks!', \"that's\", 'the'}"
      ]
     },
     "execution_count": 14,
     "metadata": {},
     "output_type": "execute_result"
    }
   ],
   "source": [
    "set(porkyWords)"
   ]
  },
  {
   "cell_type": "code",
   "execution_count": 15,
   "metadata": {},
   "outputs": [],
   "source": [
    "def typeTokenRadio(tokens):\n",
    "    numTypes=len(set(tokens))\n",
    "    numTokens=len(tokens)\n",
    "    return numTypes/numTokens"
   ]
  },
  {
   "cell_type": "code",
   "execution_count": 16,
   "metadata": {},
   "outputs": [],
   "source": [
    "trrs={}\n",
    "for fileId in gutenberg.fileids():\n",
    "    tokens=gutenberg.words(fileId)\n",
    "    trrs[fileId]=typeTokenRadio(tokens)"
   ]
  },
  {
   "cell_type": "code",
   "execution_count": 17,
   "metadata": {},
   "outputs": [
    {
     "data": {
      "text/plain": [
       "<matplotlib.axes._subplots.AxesSubplot at 0x1a2025e240>"
      ]
     },
     "execution_count": 17,
     "metadata": {},
     "output_type": "execute_result"
    },
    {
     "data": {
      "image/png": "[encoded data removed]",
      "text/plain": [
       "<Figure size 432x288 with 1 Axes>"
      ]
     },
     "metadata": {},
     "output_type": "display_data"
    }
   ],
   "source": [
    "pd.Series(trrs).plot(kind='barh')"
   ]
  },
  {
   "cell_type": "code",
   "execution_count": 18,
   "metadata": {},
   "outputs": [],
   "source": [
    "truncatedTokens={}\n",
    "for key, tokens in tokenDict.items():\n",
    "    truncated=tokens['tokens'][:8000]\n",
    "    truncatedTokens[key]=truncated"
   ]
  },
  {
   "cell_type": "code",
   "execution_count": 19,
   "metadata": {},
   "outputs": [
    {
     "data": {
      "text/plain": [
       "{'austen-emma.txt': ['[', 'Emma', 'by', 'Jane', 'Austen', '1816', ']', ...],\n",
       " 'austen-persuasion.txt': ['[', 'Persuasion', 'by', 'Jane', 'Austen', '1818', ...],\n",
       " 'austen-sense.txt': ['[', 'Sense', 'and', 'Sensibility', 'by', 'Jane', ...],\n",
       " 'bible-kjv.txt': ['[', 'The', 'King', 'James', 'Bible', ']', 'The', ...],\n",
       " 'blake-poems.txt': ['[', 'Poems', 'by', 'William', 'Blake', '1789', ']', ...],\n",
       " 'bryant-stories.txt': ['[', 'Stories', 'to', 'Tell', 'to', 'Children', 'by', ...],\n",
       " 'burgess-busterbrown.txt': ['[', 'The', 'Adventures', 'of', 'Buster', 'Bear', ...],\n",
       " 'carroll-alice.txt': ['[', 'Alice', \"'\", 's', 'Adventures', 'in', ...],\n",
       " 'chesterton-ball.txt': ['[', 'The', 'Ball', 'and', 'The', 'Cross', 'by', 'G', ...],\n",
       " 'chesterton-brown.txt': ['[', 'The', 'Wisdom', 'of', 'Father', 'Brown', 'by', ...],\n",
       " 'chesterton-thursday.txt': ['[', 'The', 'Man', 'Who', 'Was', 'Thursday', 'by', ...],\n",
       " 'edgeworth-parents.txt': ['[', 'The', 'Parent', \"'\", 's', 'Assistant', ',', ...],\n",
       " 'melville-moby_dick.txt': ['[', 'Moby', 'Dick', 'by', 'Herman', 'Melville', ...],\n",
       " 'milton-paradise.txt': ['[', 'Paradise', 'Lost', 'by', 'John', 'Milton', ...],\n",
       " 'shakespeare-caesar.txt': ['[', 'The', 'Tragedie', 'of', 'Julius', 'Caesar', ...],\n",
       " 'shakespeare-hamlet.txt': ['[', 'The', 'Tragedie', 'of', 'Hamlet', 'by', ...],\n",
       " 'shakespeare-macbeth.txt': ['[', 'The', 'Tragedie', 'of', 'Macbeth', 'by', ...],\n",
       " 'whitman-leaves.txt': ['[', 'Leaves', 'of', 'Grass', 'by', 'Walt', 'Whitman', ...]}"
      ]
     },
     "execution_count": 19,
     "metadata": {},
     "output_type": "execute_result"
    }
   ],
   "source": [
    "truncatedTokens"
   ]
  },
  {
   "cell_type": "code",
   "execution_count": 20,
   "metadata": {},
   "outputs": [],
   "source": [
    "ttrTruncated={}\n",
    "for key, tokens in truncatedTokens.items():\n",
    "    ttr=typeTokenRadio(tokens)\n",
    "    ttrTruncated[key]=ttr"
   ]
  },
  {
   "cell_type": "code",
   "execution_count": 21,
   "metadata": {},
   "outputs": [
    {
     "data": {
      "text/plain": [
       "{'austen-emma.txt': 0.193125,\n",
       " 'austen-persuasion.txt': 0.21425,\n",
       " 'austen-sense.txt': 0.185875,\n",
       " 'bible-kjv.txt': 0.11425,\n",
       " 'blake-poems.txt': 0.2195,\n",
       " 'bryant-stories.txt': 0.1445,\n",
       " 'burgess-busterbrown.txt': 0.135875,\n",
       " 'carroll-alice.txt': 0.171,\n",
       " 'chesterton-ball.txt': 0.232625,\n",
       " 'chesterton-brown.txt': 0.237375,\n",
       " 'chesterton-thursday.txt': 0.229625,\n",
       " 'edgeworth-parents.txt': 0.1805,\n",
       " 'melville-moby_dick.txt': 0.294625,\n",
       " 'milton-paradise.txt': 0.309625,\n",
       " 'shakespeare-caesar.txt': 0.217625,\n",
       " 'shakespeare-hamlet.txt': 0.241375,\n",
       " 'shakespeare-macbeth.txt': 0.237,\n",
       " 'whitman-leaves.txt': 0.257375}"
      ]
     },
     "execution_count": 21,
     "metadata": {},
     "output_type": "execute_result"
    }
   ],
   "source": [
    "ttrTruncated"
   ]
  },
  {
   "cell_type": "code",
   "execution_count": 22,
   "metadata": {},
   "outputs": [
    {
     "data": {
      "text/plain": [
       "<matplotlib.axes._subplots.AxesSubplot at 0x1a2023c470>"
      ]
     },
     "execution_count": 22,
     "metadata": {},
     "output_type": "execute_result"
    },
    {
     "data": {
      "image/png": "[encoded data removed]",
      "text/plain": [
       "<Figure size 432x288 with 1 Axes>"
      ]
     },
     "metadata": {},
     "output_type": "display_data"
    }
   ],
   "source": [
    "pd.Series(ttrTruncated).plot(kind='barh')"
   ]
  },
  {
   "cell_type": "code",
   "execution_count": 23,
   "metadata": {},
   "outputs": [],
   "source": [
    "inauguralTTR={}\n",
    "for fileId in inaugural.fileids():\n",
    "    inauguralTTR[fileId[:-4]]=typeTokenRadio(inaugural.words(fileId))"
   ]
  },
  {
   "cell_type": "code",
   "execution_count": 24,
   "metadata": {},
   "outputs": [
    {
     "data": {
      "text/plain": [
       "<matplotlib.axes._subplots.AxesSubplot at 0x1a201d4dd8>"
      ]
     },
     "execution_count": 24,
     "metadata": {},
     "output_type": "execute_result"
    },
    {
     "data": {
      "image/png": "[encoded data removed]",
      "text/plain": [
       "<Figure size 432x288 with 1 Axes>"
      ]
     },
     "metadata": {},
     "output_type": "display_data"
    }
   ],
   "source": [
    "pd.Series(inauguralTTR).plot(kind='barh')"
   ]
  },
  {
   "cell_type": "markdown",
   "metadata": {},
   "source": [
    "## Brown Corpus"
   ]
  },
  {
   "cell_type": "code",
   "execution_count": 25,
   "metadata": {},
   "outputs": [
    {
     "data": {
      "text/plain": [
       "['adventure',\n",
       " 'belles_lettres',\n",
       " 'editorial',\n",
       " 'fiction',\n",
       " 'government',\n",
       " 'hobbies',\n",
       " 'humor',\n",
       " 'learned',\n",
       " 'lore',\n",
       " 'mystery',\n",
       " 'news',\n",
       " 'religion',\n",
       " 'reviews',\n",
       " 'romance',\n",
       " 'science_fiction']"
      ]
     },
     "execution_count": 25,
     "metadata": {},
     "output_type": "execute_result"
    }
   ],
   "source": [
    "brown.categories()"
   ]
  },
  {
   "cell_type": "code",
   "execution_count": 26,
   "metadata": {},
   "outputs": [],
   "source": [
    "brownCategoryTTRs={}\n",
    "for category in brown.categories():\n",
    "    words=brown.words(categories=category)\n",
    "    ttr=typeTokenRadio(words)\n",
    "    brownCategoryTTRs[category]=ttr"
   ]
  },
  {
   "cell_type": "code",
   "execution_count": 27,
   "metadata": {},
   "outputs": [
    {
     "data": {
      "text/plain": [
       "<matplotlib.axes._subplots.AxesSubplot at 0x1a20487978>"
      ]
     },
     "execution_count": 27,
     "metadata": {},
     "output_type": "execute_result"
    },
    {
     "data": {
      "image/png": "[encoded data removed]",
      "text/plain": [
       "<Figure size 432x288 with 1 Axes>"
      ]
     },
     "metadata": {},
     "output_type": "display_data"
    }
   ],
   "source": [
    "pd.Series(brownCategoryTTRs).plot('barh')"
   ]
  },
  {
   "cell_type": "markdown",
   "metadata": {},
   "source": [
    "# Stylometry\n",
    "- **style**: most frequent 100-800 words (stopwords included)\n",
    "- **content**: lesser frequent (stopwords excluded)\n",
    "\n",
    "TF/IDF: term frequency (adjusted for) inverse document frequency"
   ]
  },
  {
   "cell_type": "code",
   "execution_count": 28,
   "metadata": {},
   "outputs": [],
   "source": [
    "import sklearn"
   ]
  },
  {
   "cell_type": "code",
   "execution_count": 29,
   "metadata": {},
   "outputs": [],
   "source": [
    "from sklearn.feature_extraction.text import TfidfVectorizer,CountVectorizer"
   ]
  },
  {
   "cell_type": "code",
   "execution_count": 37,
   "metadata": {},
   "outputs": [],
   "source": [
    "# No token\n",
    "rawTexts = [gutenberg.raw(fileid) for fileid in gutenberg.fileids()]"
   ]
  },
  {
   "cell_type": "code",
   "execution_count": 38,
   "metadata": {},
   "outputs": [
    {
     "data": {
      "text/plain": [
       "['[Emma by Jane Austen 1816]\\n\\nVOLUME I\\n\\nCHAPTER I\\n\\n\\n',\n",
       " '[Persuasion by Jane Austen 1818]\\n\\n\\nChapter 1\\n\\n\\nSir',\n",
       " '[Sense and Sensibility by Jane Austen 1811]\\n\\nCHAPT',\n",
       " '[The King James Bible]\\n\\nThe Old Testament of the K',\n",
       " '[Poems by William Blake 1789]\\n\\n \\nSONGS OF INNOCENC',\n",
       " '[Stories to Tell to Children by Sara Cone Bryant 1',\n",
       " '[The Adventures of Buster Bear by Thornton W. Burg',\n",
       " \"[Alice's Adventures in Wonderland by Lewis Carroll\",\n",
       " '[The Ball and The Cross by G.K. Chesterton 1909]\\n\\n',\n",
       " '[The Wisdom of Father Brown by G. K. Chesterton 19',\n",
       " '[The Man Who Was Thursday by G. K. Chesterton 1908',\n",
       " \"[The Parent's Assistant, by Maria Edgeworth]\\r\\n\\r\\n\\r\\n\",\n",
       " '[Moby Dick by Herman Melville 1851]\\r\\n\\r\\n\\r\\nETYMOLOGY',\n",
       " '[Paradise Lost by John Milton 1667] \\n \\n \\nBook I \\n ',\n",
       " '[The Tragedie of Julius Caesar by William Shakespe',\n",
       " '[The Tragedie of Hamlet by William Shakespeare 159',\n",
       " '[The Tragedie of Macbeth by William Shakespeare 16',\n",
       " '[Leaves of Grass by Walt Whitman 1855]\\n\\n\\nCome, sai']"
      ]
     },
     "execution_count": 38,
     "metadata": {},
     "output_type": "execute_result"
    }
   ],
   "source": [
    "[text[:50] for text in rawTexts]"
   ]
  },
  {
   "cell_type": "code",
   "execution_count": 40,
   "metadata": {},
   "outputs": [],
   "source": [
    "# TfidfVectorize's token_pattern is not so accurate(via blank). We can provide our own tokenizer.\n",
    "# notice: max_df and min_df （1.0 and 1 are different) df: data-fequency\n",
    "tfidf=TfidfVectorizer() "
   ]
  },
  {
   "cell_type": "code",
   "execution_count": 43,
   "metadata": {},
   "outputs": [],
   "source": [
    "tfidf=TfidfVectorizer(tokenizer=nltk.tokenize,max_features=400)"
   ]
  },
  {
   "cell_type": "code",
   "execution_count": 44,
   "metadata": {},
   "outputs": [
    {
     "ename": "TypeError",
     "evalue": "'module' object is not callable",
     "output_type": "error",
     "traceback": [
      "\u001b[0;31m---------------------------------------------------------------------------\u001b[0m",
      "\u001b[0;31mTypeError\u001b[0m                                 Traceback (most recent call last)",
      "\u001b[0;32m<ipython-input-44-fa5454e0edd0>\u001b[0m in \u001b[0;36m<module>\u001b[0;34m()\u001b[0m\n\u001b[0;32m----> 1\u001b[0;31m \u001b[0mtfMartix\u001b[0m\u001b[0;34m=\u001b[0m\u001b[0mtfidf\u001b[0m\u001b[0;34m.\u001b[0m\u001b[0mfit_transform\u001b[0m\u001b[0;34m(\u001b[0m\u001b[0mrawTexts\u001b[0m\u001b[0;34m)\u001b[0m\u001b[0;34m\u001b[0m\u001b[0m\n\u001b[0m",
      "\u001b[0;32m~/anaconda3/lib/python3.6/site-packages/sklearn/feature_extraction/text.py\u001b[0m in \u001b[0;36mfit_transform\u001b[0;34m(self, raw_documents, y)\u001b[0m\n\u001b[1;32m   1379\u001b[0m             \u001b[0mTf\u001b[0m\u001b[0;34m-\u001b[0m\u001b[0midf\u001b[0m\u001b[0;34m-\u001b[0m\u001b[0mweighted\u001b[0m \u001b[0mdocument\u001b[0m\u001b[0;34m-\u001b[0m\u001b[0mterm\u001b[0m \u001b[0mmatrix\u001b[0m\u001b[0;34m.\u001b[0m\u001b[0;34m\u001b[0m\u001b[0m\n\u001b[1;32m   1380\u001b[0m         \"\"\"\n\u001b[0;32m-> 1381\u001b[0;31m         \u001b[0mX\u001b[0m \u001b[0;34m=\u001b[0m \u001b[0msuper\u001b[0m\u001b[0;34m(\u001b[0m\u001b[0mTfidfVectorizer\u001b[0m\u001b[0;34m,\u001b[0m \u001b[0mself\u001b[0m\u001b[0;34m)\u001b[0m\u001b[0;34m.\u001b[0m\u001b[0mfit_transform\u001b[0m\u001b[0;34m(\u001b[0m\u001b[0mraw_documents\u001b[0m\u001b[0;34m)\u001b[0m\u001b[0;34m\u001b[0m\u001b[0m\n\u001b[0m\u001b[1;32m   1382\u001b[0m         \u001b[0mself\u001b[0m\u001b[0;34m.\u001b[0m\u001b[0m_tfidf\u001b[0m\u001b[0;34m.\u001b[0m\u001b[0mfit\u001b[0m\u001b[0;34m(\u001b[0m\u001b[0mX\u001b[0m\u001b[0;34m)\u001b[0m\u001b[0;34m\u001b[0m\u001b[0m\n\u001b[1;32m   1383\u001b[0m         \u001b[0;31m# X is already a transformed view of raw_documents so\u001b[0m\u001b[0;34m\u001b[0m\u001b[0;34m\u001b[0m\u001b[0m\n",
      "\u001b[0;32m~/anaconda3/lib/python3.6/site-packages/sklearn/feature_extraction/text.py\u001b[0m in \u001b[0;36mfit_transform\u001b[0;34m(self, raw_documents, y)\u001b[0m\n\u001b[1;32m    867\u001b[0m \u001b[0;34m\u001b[0m\u001b[0m\n\u001b[1;32m    868\u001b[0m         vocabulary, X = self._count_vocab(raw_documents,\n\u001b[0;32m--> 869\u001b[0;31m                                           self.fixed_vocabulary_)\n\u001b[0m\u001b[1;32m    870\u001b[0m \u001b[0;34m\u001b[0m\u001b[0m\n\u001b[1;32m    871\u001b[0m         \u001b[0;32mif\u001b[0m \u001b[0mself\u001b[0m\u001b[0;34m.\u001b[0m\u001b[0mbinary\u001b[0m\u001b[0;34m:\u001b[0m\u001b[0;34m\u001b[0m\u001b[0m\n",
      "\u001b[0;32m~/anaconda3/lib/python3.6/site-packages/sklearn/feature_extraction/text.py\u001b[0m in \u001b[0;36m_count_vocab\u001b[0;34m(self, raw_documents, fixed_vocab)\u001b[0m\n\u001b[1;32m    790\u001b[0m         \u001b[0;32mfor\u001b[0m \u001b[0mdoc\u001b[0m \u001b[0;32min\u001b[0m \u001b[0mraw_documents\u001b[0m\u001b[0;34m:\u001b[0m\u001b[0;34m\u001b[0m\u001b[0m\n\u001b[1;32m    791\u001b[0m             \u001b[0mfeature_counter\u001b[0m \u001b[0;34m=\u001b[0m \u001b[0;34m{\u001b[0m\u001b[0;34m}\u001b[0m\u001b[0;34m\u001b[0m\u001b[0m\n\u001b[0;32m--> 792\u001b[0;31m             \u001b[0;32mfor\u001b[0m \u001b[0mfeature\u001b[0m \u001b[0;32min\u001b[0m \u001b[0manalyze\u001b[0m\u001b[0;34m(\u001b[0m\u001b[0mdoc\u001b[0m\u001b[0;34m)\u001b[0m\u001b[0;34m:\u001b[0m\u001b[0;34m\u001b[0m\u001b[0m\n\u001b[0m\u001b[1;32m    793\u001b[0m                 \u001b[0;32mtry\u001b[0m\u001b[0;34m:\u001b[0m\u001b[0;34m\u001b[0m\u001b[0m\n\u001b[1;32m    794\u001b[0m                     \u001b[0mfeature_idx\u001b[0m \u001b[0;34m=\u001b[0m \u001b[0mvocabulary\u001b[0m\u001b[0;34m[\u001b[0m\u001b[0mfeature\u001b[0m\u001b[0;34m]\u001b[0m\u001b[0;34m\u001b[0m\u001b[0m\n",
      "\u001b[0;32m~/anaconda3/lib/python3.6/site-packages/sklearn/feature_extraction/text.py\u001b[0m in \u001b[0;36m<lambda>\u001b[0;34m(doc)\u001b[0m\n\u001b[1;32m    264\u001b[0m \u001b[0;34m\u001b[0m\u001b[0m\n\u001b[1;32m    265\u001b[0m             return lambda doc: self._word_ngrams(\n\u001b[0;32m--> 266\u001b[0;31m                 tokenize(preprocess(self.decode(doc))), stop_words)\n\u001b[0m\u001b[1;32m    267\u001b[0m \u001b[0;34m\u001b[0m\u001b[0m\n\u001b[1;32m    268\u001b[0m         \u001b[0;32melse\u001b[0m\u001b[0;34m:\u001b[0m\u001b[0;34m\u001b[0m\u001b[0m\n",
      "\u001b[0;31mTypeError\u001b[0m: 'module' object is not callable"
     ]
    }
   ],
   "source": [
    "tfMartix=tfidf.fit_transform(rawTexts)"
   ]
  },
  {
   "cell_type": "code",
   "execution_count": null,
   "metadata": {},
   "outputs": [],
   "source": [
    "labels=[fileId.]"
   ]
  },
  {
   "cell_type": "code",
   "execution_count": null,
   "metadata": {},
   "outputs": [],
   "source": []
  },
  {
   "cell_type": "code",
   "execution_count": null,
   "metadata": {},
   "outputs": [],
   "source": [
    "tfidf.fit_transform()"
   ]
  },
  {
   "cell_type": "code",
   "execution_count": null,
   "metadata": {},
   "outputs": [],
   "source": []
  },
  {
   "cell_type": "code",
   "execution_count": null,
   "metadata": {},
   "outputs": [],
   "source": []
  },
  {
   "cell_type": "code",
   "execution_count": null,
   "metadata": {},
   "outputs": [],
   "source": []
  },
  {
   "cell_type": "code",
   "execution_count": null,
   "metadata": {},
   "outputs": [],
   "source": []
  },
  {
   "cell_type": "code",
   "execution_count": null,
   "metadata": {},
   "outputs": [],
   "source": []
  },
  {
   "cell_type": "code",
   "execution_count": 33,
   "metadata": {},
   "outputs": [],
   "source": [
    "tfidf=TfidfVectorizer()"
   ]
  },
  {
   "cell_type": "code",
   "execution_count": 34,
   "metadata": {},
   "outputs": [],
   "source": [
    "tfMatrix = tfidf.fit_transform(rawTexts)"
   ]
  },
  {
   "cell_type": "code",
   "execution_count": 35,
   "metadata": {},
   "outputs": [],
   "source": [
    "df = pd.DataFrame(tfMatrix.todense(), columns=tfidf.get_feature_names(), index=gutenberg.fileids())"
   ]
  },
  {
   "cell_type": "code",
   "execution_count": 36,
   "metadata": {},
   "outputs": [
    {
     "data": {
      "text/plain": [
       "<matplotlib.axes._subplots.AxesSubplot at 0x1a2049d780>"
      ]
     },
     "execution_count": 36,
     "metadata": {},
     "output_type": "execute_result"
    },
    {
     "data": {
      "image/png": "[encoded data removed]",
      "text/plain": [
       "<Figure size 432x288 with 1 Axes>"
      ]
     },
     "metadata": {},
     "output_type": "display_data"
    }
   ],
   "source": [
    "df[['an']].plot(kind='bar')"
   ]
  },
  {
   "cell_type": "code",
   "execution_count": 46,
   "metadata": {},
   "outputs": [],
   "source": [
    "from sklearn.decomposition import PCA"
   ]
  },
  {
   "cell_type": "code",
   "execution_count": 47,
   "metadata": {},
   "outputs": [],
   "source": [
    "pca=PCA(n_components=2)"
   ]
  },
  {
   "cell_type": "code",
   "execution_count": 50,
   "metadata": {},
   "outputs": [],
   "source": [
    "# 数据降维\n",
    "pcaOut=pca.fit_transform(tfMatrix.todense())"
   ]
  },
  {
   "cell_type": "code",
   "execution_count": 51,
   "metadata": {},
   "outputs": [],
   "source": [
    "pcaDF=pd.DataFrame(pcaOut,columns=['Component 1','Component 2'])"
   ]
  },
  {
   "cell_type": "code",
   "execution_count": 56,
   "metadata": {},
   "outputs": [
    {
     "data": {
      "image/png": "[encoded data removed]",
      "text/plain": [
       "<Figure size 864x432 with 1 Axes>"
      ]
     },
     "metadata": {},
     "output_type": "display_data"
    }
   ],
   "source": [
    "ax=pcaDF.plot(x='Component 1',y='Component 2',kind='scatter',figsize=[12,6])\n",
    "for key, value in pcaDF.iterrows():\n",
    "    ax.annotate(key,value)"
   ]
  },
  {
   "cell_type": "code",
   "execution_count": 57,
   "metadata": {},
   "outputs": [],
   "source": [
    "import requests\n",
    "import json"
   ]
  },
  {
   "cell_type": "code",
   "execution_count": 71,
   "metadata": {},
   "outputs": [],
   "source": [
    "def getAuthorTexts(author):\n",
    "    response=requests.get('http://corpus-db.org/api/author/'+author+'/fulltext')\n",
    "    if response.ok:\n",
    "        decoded=json.loads(response.text)\n",
    "        return decoded"
   ]
  },
  {
   "cell_type": "code",
   "execution_count": 72,
   "metadata": {},
   "outputs": [],
   "source": [
    "dickens=getAuthorTexts('Dickens, Charles')"
   ]
  },
  {
   "cell_type": "code",
   "execution_count": 73,
   "metadata": {},
   "outputs": [],
   "source": [
    "dickensTen=dickens[:10]"
   ]
  },
  {
   "cell_type": "code",
   "execution_count": 74,
   "metadata": {},
   "outputs": [],
   "source": [
    "almostTitles=[text['text'][:50].strip() for text in dickensTen]"
   ]
  },
  {
   "cell_type": "code",
   "execution_count": null,
   "metadata": {},
   "outputs": [],
   "source": [
    "\n"
   ]
  }
 ],
 "metadata": {
  "kernelspec": {
   "display_name": "Python 3",
   "language": "python",
   "name": "python3"
  },
  "language_info": {
   "codemirror_mode": {
    "name": "ipython",
    "version": 3
   },
   "file_extension": ".py",
   "mimetype": "text/x-python",
   "name": "python",
   "nbconvert_exporter": "python",
   "pygments_lexer": "ipython3",
   "version": "3.6.5"
  }
 },
 "nbformat": 4,
 "nbformat_minor": 2
}
