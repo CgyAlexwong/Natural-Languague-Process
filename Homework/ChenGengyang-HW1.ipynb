{
 "cells": [
  {
   "cell_type": "markdown",
   "metadata": {},
   "source": [
    "# Homework 1\n",
    "\n",
    "Replace \"Yourname\" in the title of this notebook with your first name, and replace \"your name here\" below, as well. \n",
    "\n",
    "## Chen Gengyang\n",
    "\n",
    "Instructions: complete all problems 1-8, and run the cell containing your solution, to show that it works. You should be able to run \"restart and run all\" from the Kernel menu, and have it output the correct solutions. The bonus problem is optional. \n",
    "\n",
    "### 1. Using this inventory of delicious produce: "
   ]
  },
  {
   "cell_type": "code",
   "execution_count": 5,
   "metadata": {},
   "outputs": [],
   "source": [
    "fruit = {\"apples\": 2, \"oranges\": 10, \"bananas\": 50}"
   ]
  },
  {
   "cell_type": "markdown",
   "metadata": {},
   "source": [
    "...write a line of Python that gets the number of oranges (10)."
   ]
  },
  {
   "cell_type": "code",
   "execution_count": 3,
   "metadata": {},
   "outputs": [
    {
     "data": {
      "text/plain": [
       "10"
      ]
     },
     "execution_count": 3,
     "metadata": {},
     "output_type": "execute_result"
    }
   ],
   "source": [
    "fruit['oranges']"
   ]
  },
  {
   "cell_type": "markdown",
   "metadata": {},
   "source": [
    "### 2. Given the dictionary below, get the name of the second chapter from the second period. \n",
    "\n",
    "Your code should output `Chapter 2`. "
   ]
  },
  {
   "cell_type": "code",
   "execution_count": 4,
   "metadata": {},
   "outputs": [],
   "source": [
    "chapters = {\"First Period\": ['Chapter I', 'Chapter II', 'Chapter III'], \n",
    "            \"Second Period\": ['Chapter 1', 'Chapter 2', 'Chapter 3']}"
   ]
  },
  {
   "cell_type": "code",
   "execution_count": 5,
   "metadata": {},
   "outputs": [
    {
     "data": {
      "text/plain": [
       "'Chapter 2'"
      ]
     },
     "execution_count": 5,
     "metadata": {},
     "output_type": "execute_result"
    }
   ],
   "source": [
    "chapters[\"Second Period\"][1]"
   ]
  },
  {
   "cell_type": "markdown",
   "metadata": {},
   "source": [
    "### 3. Split the following string, `heapsOfBooks`, on semicolons. \n",
    "\n",
    "The output should be: \n",
    "\n",
    "```\n",
    "['I am not superstitious',\n",
    " ' I have read a heap of books in my time',\n",
    " ' I am a scholar in my own way.']\n",
    "``` "
   ]
  },
  {
   "cell_type": "code",
   "execution_count": 6,
   "metadata": {},
   "outputs": [],
   "source": [
    "heapsOfBooks = \"I am not superstitious; I have read a heap of books in my time; I am a scholar in my own way.\""
   ]
  },
  {
   "cell_type": "code",
   "execution_count": 9,
   "metadata": {},
   "outputs": [
    {
     "data": {
      "text/plain": [
       "['I am not superstitious',\n",
       " ' I have read a heap of books in my time',\n",
       " ' I am a scholar in my own way.']"
      ]
     },
     "execution_count": 9,
     "metadata": {},
     "output_type": "execute_result"
    }
   ],
   "source": [
    "wordList=heapsOfBooks.split(';')\n",
    "wordList"
   ]
  },
  {
   "cell_type": "markdown",
   "metadata": {},
   "source": [
    "### 4. Split each output of the string above, `heapsOfBooks`, into words (i.e. split along spaces). Your output should be this list of lists: \n",
    "\n",
    "```\n",
    "[['I', 'am', 'not', 'superstitious'],\n",
    " ['I', 'have', 'read', 'a', 'heap', 'of', 'books', 'in', 'my', 'time'],\n",
    " ['I', 'am', 'a', 'scholar', 'in', 'my', 'own', 'way.']]\n",
    "```\n"
   ]
  },
  {
   "cell_type": "code",
   "execution_count": 10,
   "metadata": {},
   "outputs": [
    {
     "data": {
      "text/plain": [
       "[['I', 'am', 'not', 'superstitious'],\n",
       " ['', 'I', 'have', 'read', 'a', 'heap', 'of', 'books', 'in', 'my', 'time'],\n",
       " ['', 'I', 'am', 'a', 'scholar', 'in', 'my', 'own', 'way.']]"
      ]
     },
     "execution_count": 10,
     "metadata": {},
     "output_type": "execute_result"
    }
   ],
   "source": [
    "[word.split(' ') for word in wordList]"
   ]
  },
  {
   "cell_type": "markdown",
   "metadata": {},
   "source": [
    "### 5. Write a little program that takes the user's name, and returns that name spelled backwards, but with the capital letter on the first letter, and with a lowercase final letter. For example: \n",
    "\n",
    "```\n",
    "What's your name: Jonathan\n",
    "Your name backwards is Nahtanoj!\n",
    "```\n",
    "\n",
    "Hint: use the `input()` function. "
   ]
  },
  {
   "cell_type": "code",
   "execution_count": 3,
   "metadata": {},
   "outputs": [
    {
     "name": "stdout",
     "output_type": "stream",
     "text": [
      "Your name backwards is Nahtanoj!\n"
     ]
    }
   ],
   "source": [
    "name=input('What\\'s your name: ')\n",
    "# to reverse\n",
    "# reversedStr=''\n",
    "# for letter in name:\n",
    "#    reversedStr=letter+reversedStr\n",
    "reversedName=name[::-1].capitalize()\n",
    "print(\"Your name backwards is \"+reversedName+'!')"
   ]
  },
  {
   "cell_type": "markdown",
   "metadata": {},
   "source": [
    "### 6. Add a few more fruits to the `fruit` dictionary above. Then use that data to create a string like this: \n",
    "\n",
    "```\n",
    "I went to the store yesterday and I bought 2 apples, 10 oranges, 5 limes, and 50 bananas. \n",
    "Because I really, really like bananas.\n",
    "```\n",
    "\n",
    "Note that before the final item in the series, there is the word \"and.\" "
   ]
  },
  {
   "cell_type": "code",
   "execution_count": 6,
   "metadata": {},
   "outputs": [
    {
     "name": "stdout",
     "output_type": "stream",
     "text": [
      "I went to the store yesterday and I bought 2 apples, 10 oranges, 50 bananas, and 5 limes. \n",
      "Because I really, really like limes.\n"
     ]
    }
   ],
   "source": [
    "fruit['limes']=5\n",
    "fruitInfoList=[]\n",
    "for fruitName in fruit:\n",
    "    fruitInfoList.append(str(fruit[fruitName])+' '+fruitName)\n",
    "fruitInfoStr=''\n",
    "fruitLikeBest=''\n",
    "for fruitInfo in fruitInfoList:\n",
    "    if fruitInfo != fruitInfoList[-1]:\n",
    "        fruitInfoStr=fruitInfoStr+fruitInfo+', '\n",
    "    else:\n",
    "        fruitInfoStr=fruitInfoStr+'and '+fruitInfo\n",
    "        fruitLikeBest=fruitInfo.split()[1]\n",
    "print(\"I went to the store yesterday and I bought \"+fruitInfoStr+\". \\nBecause I really, really like \"+\n",
    "      fruitLikeBest+\".\")"
   ]
  },
  {
   "cell_type": "markdown",
   "metadata": {},
   "source": [
    "### 7. Using a table of contents for _The Moonstone_, compose a list of lists that shows the hierarchical structure of the novel.\n",
    " \n",
    "And write a sentence or two (in a markdown cell) with anything you notice about this structure. "
   ]
  },
  {
   "cell_type": "code",
   "execution_count": 1,
   "metadata": {},
   "outputs": [
    {
     "data": {
      "text/plain": [
       "{'Prologue': ['I', 'II', 'III', 'IV'],\n",
       " 'The story': {'First period': ['Chapter 0',\n",
       "   'Chapter 1',\n",
       "   'Chapter 2',\n",
       "   'Chapter 3',\n",
       "   'Chapter 4',\n",
       "   'Chapter 5',\n",
       "   'Chapter 6',\n",
       "   'Chapter 7',\n",
       "   'Chapter 8',\n",
       "   'Chapter 9',\n",
       "   'Chapter 10',\n",
       "   'Chapter 11',\n",
       "   'Chapter 12',\n",
       "   'Chapter 13',\n",
       "   'Chapter 14',\n",
       "   'Chapter 15',\n",
       "   'Chapter 16',\n",
       "   'Chapter 17',\n",
       "   'Chapter 18',\n",
       "   'Chapter 19',\n",
       "   'Chapter 20',\n",
       "   'Chapter 21',\n",
       "   'Chapter 22'],\n",
       "  'Second period': ['First Narrative',\n",
       "   'Second Narrative',\n",
       "   'Third Narrative',\n",
       "   'Fourth Narrative',\n",
       "   'Fifth Narrative',\n",
       "   'Sixth Narrative',\n",
       "   'Seventh Narrative']},\n",
       " 'Epilogue': ['Chapter I', 'Chapter II', 'Chapter III', 'Chapter IV']}"
      ]
     },
     "execution_count": 1,
     "metadata": {},
     "output_type": "execute_result"
    }
   ],
   "source": [
    "auxList1=['I','II','III','IV']\n",
    "auxList2=['First','Second','Third','Fourth','Fifth','Sixth','Seventh','Eighth']\n",
    "structure={'Prologue':[auxList1[i] for i in range(4)],\n",
    "          'The story':\n",
    "              {\n",
    "              'First period':['Chapter '+str(i) for i in range(23)],\n",
    "              'Second period':[auxList2[i]+' Narrative' for i in range(7)]},\n",
    "            'Epilogue':['Chapter '+auxList1[i] for i in range(4)]\n",
    "          }\n",
    "structure"
   ]
  },
  {
   "cell_type": "markdown",
   "metadata": {},
   "source": [
    "The Moonstone has the prologue, the main body and the epilogue. The story has two period: the first has 22 chapters and the second period telling the case from different perspectives. In the second period, several narratives are divided into chapters while some are not."
   ]
  },
  {
   "cell_type": "markdown",
   "metadata": {},
   "source": [
    "### 8. Write 1-2 paragraphs about something you notice happening in _The Moonstone_ that you think might be operationalized (i.e. tested using a computational analysis). \n",
    "\n",
    "And also, what do you think the results of the analysis will be? "
   ]
  },
  {
   "cell_type": "markdown",
   "metadata": {},
   "source": [
    "To explore the closeness of the relationship between different characters and the Moonstone, I think we can count the number of occurrences of each name in the section where the Moonstone appears. Also, when 'he' or 'she' appears, we can search above for the person whose name has recently appeared. What' more, the high frequency of the Moonstone in one section means that the person who appears in the paragraph most often has a higher weight.<br/>\n",
    "Obviously, Mr.Franklin must have the strongest connection with the Moonstone since he is the one who stole the Moonstone and has a lot of stories about it."
   ]
  },
  {
   "cell_type": "markdown",
   "metadata": {},
   "source": [
    "### Bonus: write some code to correct one of the formatting problems in _The Moonstone_. \n",
    "\n",
    "Input: Any string (like The Moonstone) that contains a sequence of ALL CAPS LIKE THIS. \n",
    "Output: That same string, but with ALL CAPS replaced with `_Title Case Markdown Italics_`. Note that in title case, certain short prepositions and articles are not capitalized, as in `_Raiders of the Lost Ark_`. \n",
    "\n",
    "Example input: `When my spirits are bad–ROBINSON CRUSOE. When I want advice–ROBINSON CRUSOE.`\n",
    "Example output: `When my spirits are bad—_Robinson Crusoe_. When I want advice—_Robinson Crusoe_.`\n",
    "\n",
    "Hint: you can add spaces around punctuation to make words easier to work with, then remove the spaces after you're done. "
   ]
  },
  {
   "cell_type": "code",
   "execution_count": 39,
   "metadata": {},
   "outputs": [
    {
     "name": "stdout",
     "output_type": "stream",
     "text": [
      "Output:When my spirits are bad–_Robinson Crusoe_. When I want advice–_Robinson Crusoe_.\n"
     ]
    }
   ],
   "source": [
    "inpList = list(input('Input:'))\n",
    "auxList1 = []\n",
    "for i in range(len(inpList)):\n",
    "    item = inpList[i]\n",
    "    if (not item.isalnum()) and (item != ' '):\n",
    "        auxList1.append(' ' + item + ' ')\n",
    "    else:\n",
    "        auxList1.append(item)\n",
    "\n",
    "# get all words\n",
    "wordList = ''.join(auxList1).split(' ')\n",
    "\n",
    "# stopwords to filter prepositions and articles\n",
    "from itertools import groupby\n",
    "from nltk.corpus import stopwords\n",
    "\n",
    "words = stopwords.words('english')\n",
    "\n",
    "# make a list of both the word,its index and the boolean whether it is uppercase\n",
    "auxList2 = list(zip(wordList, range(len(wordList)), [word.isupper() for word in wordList]))\n",
    "\n",
    "# use 'groupby' to get the sequences of all caps\n",
    "for k, g in groupby(auxList2, lambda x: x[2]):\n",
    "    auxGroup = list(g)\n",
    "    if k:\n",
    "        for i in range(len(auxGroup)):\n",
    "            item = auxGroup[i]\n",
    "            if item[0] != 'I':\n",
    "                auxItem = auxGroup[i][0].lower()\n",
    "                if item[0].lower():\n",
    "                    auxItem = item[0].lower().capitalize()\n",
    "                if i == 0:\n",
    "                    wordList[item[1]] = '_' + item[0].lower().capitalize()\n",
    "                elif i == len(auxGroup) - 1:\n",
    "                    wordList[item[1]] = auxItem + '_'\n",
    "                else:\n",
    "                    wordList[item[1]] = auxItem\n",
    "            \n",
    "# remove the useless spaces           \n",
    "resList = []\n",
    "auxList3 = list(' '.join(wordList)[:-1])\n",
    "for i in range(len(auxList3)):\n",
    "    item = auxList3[i]\n",
    "    if item == ' ':\n",
    "        if auxList3[i + 1].isalnum() or auxList3[i + 1].isalnum() == ' ':\n",
    "            resList.append(item)\n",
    "    else:\n",
    "        resList.append(item)\n",
    "\n",
    "print('Output:'+''.join(resList))\n"
   ]
  }
 ],
 "metadata": {
  "kernelspec": {
   "display_name": "Python 3",
   "language": "python",
   "name": "python3"
  },
  "language_info": {
   "codemirror_mode": {
    "name": "ipython",
    "version": 3
   },
   "file_extension": ".py",
   "mimetype": "text/x-python",
   "name": "python",
   "nbconvert_exporter": "python",
   "pygments_lexer": "ipython3",
   "version": "3.6.5"
  }
 },
 "nbformat": 4,
 "nbformat_minor": 2
}
