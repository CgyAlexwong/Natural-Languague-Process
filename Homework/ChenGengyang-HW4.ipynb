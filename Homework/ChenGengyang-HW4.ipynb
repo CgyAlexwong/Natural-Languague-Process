{
 "cells": [
  {
   "cell_type": "markdown",
   "metadata": {},
   "source": [
    "# Homework 4\n",
    "\n",
    "## ChenGengyang here\n",
    "\n",
    "Instructions: \n",
    "\n",
    "1. Replace \"yourname\" in the title of this notebook, and \"your name here\" in this header, with your name. \n",
    "2. Complete all questions/problems. **Make sure to run all cells so that your output is visible**. You can usually do this by choosing \"restart & run all\" from the Kernel menu. \n",
    "3. Email me your notebook (.ipynb file) to jonathan.reeve@columbia.edu, with the subject \"yourname - HW4,\" replacing \"yourname\" with your name. Please don't email me archives (`.zip` or `.tar.gz`). "
   ]
  },
  {
   "cell_type": "markdown",
   "metadata": {},
   "source": [
    "### 1. Install SpaCy and the SpaCy language model called `en_core_web_lg`. It is important that you get this particular language model, as the others don't have the features we'll need. \n",
    "\n",
    "You can work together in groups (probably in groups where you all run the same operating system). \n",
    "\n",
    "There are installation instructions [here on the SpaCy website](https://spacy.io/usage/) that list a number of command-line commands to run. To run command-line commands: \n",
    "\n",
    " - **Linux**: open a terminal. \n",
    " - **MacOS**: open the Terminal app. (Hint: you can open Spotlight, the magnifying glass icon in the upper right, and type \"terminal\")\n",
    " - **Windows**: open Powershell. (Open the Start menu, then type \"powershell.\") Alternatively, download Git BASH, which is included in GitHub Desktop. \n",
    "\n",
    "Whenever you see command-line commands, they're usually prefixed with `$` or `#`. A `$` means to run the command as a regular user, and a `#` means to prefix your command with `sudo`. You'll generally only see `$`, and you're already running as a regular user, so all you'll need to do is to type in the command that follows the `$`, i.e. not including the `$`. So if the command is shown in the SpaCy docs as `$ conda install -c conda-forge spacy`, open a terminal and type `conda install -c conda-forge spacy`, exactly as written. \n",
    "\n",
    "When following the SpaCy instructions, you'll want to choose `conda` as your package manager (because you've installed Anaconda), and 'python3' as your Python version, since we're using Python 3 in this course. Don't select `virtualenv` unless you really know what you're doing. \n",
    "\n",
    "To show that you've successfully installed this stack, please run the two cells below, to show that it's not giving you errors. "
   ]
  },
  {
   "cell_type": "code",
   "execution_count": 1,
   "metadata": {},
   "outputs": [],
   "source": [
    "import spacy"
   ]
  },
  {
   "cell_type": "code",
   "execution_count": 2,
   "metadata": {},
   "outputs": [],
   "source": [
    "nlp = spacy.load('en_core_web_lg')"
   ]
  },
  {
   "cell_type": "markdown",
   "metadata": {},
   "source": [
    "### 2. Create the corpus that you'll use for your final project, load it into this notebook, put it into a single variable (e.g., a dictionary), and show some basic text statistics. \n",
    " \n",
    "Feel free to use [corpus-db.org](http://corpus-db.org) to assemble your corpus. If you need any help in using it, please ask in the chatroom! You can use it to get, say, 30 detective novels relatively easily, or 30 novels that feature young women, or 30 novels set in Paris. You can also get all the works by a certain author this way. But be careful to know exactly what texts you're getting. Project Gutenberg includes texts in a number of languages, prune your texts carefully. \n",
    "\n",
    "Stick with English texts, please. NLP in other languages is possible, but requires a different set of tokenizers and other tools that we haven't used yet in this course. It's also good idea to work with texts that are originally written in English, since translations have the problem of introducing translator's word choices to the set of word choices that the author has already made.\n",
    "\n",
    "Your corpus should be a collection of texts, stored in one variable. However, it doesn't have to be a collection of *works*. Rather, it can be all the narratives in _The Moonstone_, all of Katherine Mansfield's stories, all of Joyce's stories, or some combination of the above, based on theme or genre. It can also be all the novels of a certain writer, or of five writers. \n",
    "\n",
    "Comparisons make for good corpora. Why not compare, say, all of our Joyce stories to all of our Mansfield stories? \n",
    "\n",
    "You can also use certain APIs to get texts like book reviews from sites like Goodreads. Use `requests.get` along with a URL you get from the API's documentation. Maybe you're interested in comparing texts with book reviews? \n",
    "\n",
    "Your corpus might change a little by the time you finish your final project, and that's OK, but try not to change it completely, if you can. \n",
    "\n",
    "Make sure to clean your corpus of paratext: tables of contents, Project Gutenberg copyright licenses, etc, since these will throw off text statistics. \n",
    "\n",
    "Show at least four types of text statistics, like: \n",
    " - Length of each text or text segment, in words. \n",
    " - Titles (labels) for each text or text segment. \n",
    " - Type/token ratio of each text or text segment. What do you notice here? \n",
    " - Collocations and/or frequent content n-grams for each. What do you notice? \n",
    " - A pattern like JJ-JJ-JJ-NN, or 'like a JJ NN'. \n",
    " - Anything else you're interested in knowing/showing about this corpus. \n",
    "\n",
    " \n",
    "**Include at least one paragraph of markdown where you describe your exploratory analysis.**"
   ]
  },
  {
   "cell_type": "code",
   "execution_count": 245,
   "metadata": {},
   "outputs": [],
   "source": [
    "from nltk.corpus import brown\n",
    "from nltk.corpus import stopwords\n",
    "from sklearn.feature_extraction.text import TfidfVectorizer, CountVectorizer\n",
    "import nltk\n",
    "import pandas as pd\n",
    "import collections\n",
    "import sklearn\n",
    "%matplotlib inline"
   ]
  },
  {
   "cell_type": "markdown",
   "metadata": {},
   "source": [
    "#### The variable *texts* contains all the texts sorted by subjects."
   ]
  },
  {
   "cell_type": "code",
   "execution_count": 13,
   "metadata": {},
   "outputs": [],
   "source": [
    "texts={}\n",
    "for category in brown.categories():\n",
    "    texts[category]=[word for word in brown.words(categories=category)]"
   ]
  },
  {
   "cell_type": "markdown",
   "metadata": {},
   "source": [
    "#### Length of each text or text segment, in words."
   ]
  },
  {
   "cell_type": "code",
   "execution_count": 14,
   "metadata": {},
   "outputs": [],
   "source": [
    "lengthOfEachText={}\n",
    "for text in texts.keys():\n",
    "    lengthOfEachText[text]=len(texts[text])"
   ]
  },
  {
   "cell_type": "code",
   "execution_count": 15,
   "metadata": {},
   "outputs": [
    {
     "data": {
      "text/plain": [
       "{'adventure': 69342,\n",
       " 'belles_lettres': 173096,\n",
       " 'editorial': 61604,\n",
       " 'fiction': 68488,\n",
       " 'government': 70117,\n",
       " 'hobbies': 82345,\n",
       " 'humor': 21695,\n",
       " 'learned': 181888,\n",
       " 'lore': 110299,\n",
       " 'mystery': 57169,\n",
       " 'news': 100554,\n",
       " 'religion': 39399,\n",
       " 'reviews': 40704,\n",
       " 'romance': 70022,\n",
       " 'science_fiction': 14470}"
      ]
     },
     "execution_count": 15,
     "metadata": {},
     "output_type": "execute_result"
    }
   ],
   "source": [
    "lengthOfEachText"
   ]
  },
  {
   "cell_type": "markdown",
   "metadata": {},
   "source": [
    "#### Titles (labels) for each text or text segment."
   ]
  },
  {
   "cell_type": "code",
   "execution_count": 16,
   "metadata": {},
   "outputs": [
    {
     "data": {
      "text/plain": [
       "['adventure',\n",
       " 'belles_lettres',\n",
       " 'editorial',\n",
       " 'fiction',\n",
       " 'government',\n",
       " 'hobbies',\n",
       " 'humor',\n",
       " 'learned',\n",
       " 'lore',\n",
       " 'mystery',\n",
       " 'news',\n",
       " 'religion',\n",
       " 'reviews',\n",
       " 'romance',\n",
       " 'science_fiction']"
      ]
     },
     "execution_count": 16,
     "metadata": {},
     "output_type": "execute_result"
    }
   ],
   "source": [
    "labels=brown.categories()\n",
    "labels"
   ]
  },
  {
   "cell_type": "markdown",
   "metadata": {},
   "source": [
    "#### Type/token ratio of each text or text segment"
   ]
  },
  {
   "cell_type": "code",
   "execution_count": 23,
   "metadata": {},
   "outputs": [],
   "source": [
    "def typeTokenRatio(tokens): \n",
    "    numTypes = len(set(tokens))\n",
    "    numTokens = len(tokens)\n",
    "    return numTypes/numTokens"
   ]
  },
  {
   "cell_type": "code",
   "execution_count": 24,
   "metadata": {},
   "outputs": [],
   "source": [
    "ttrs={}\n",
    "for text in texts:\n",
    "    ttrs[text]=typeTokenRatio(texts[text])"
   ]
  },
  {
   "cell_type": "code",
   "execution_count": 28,
   "metadata": {},
   "outputs": [
    {
     "data": {
      "text/plain": [
       "<matplotlib.axes._subplots.AxesSubplot at 0x1a9f382c18>"
      ]
     },
     "execution_count": 28,
     "metadata": {},
     "output_type": "execute_result"
    },
    {
     "data": {
      "image/png": "[encoded data removed]",
      "text/plain": [
       "<Figure size 432x288 with 1 Axes>"
      ]
     },
     "metadata": {},
     "output_type": "display_data"
    }
   ],
   "source": [
    "pd.Series(ttrs).plot(kind='barh')"
   ]
  },
  {
   "cell_type": "markdown",
   "metadata": {},
   "source": [
    "##### findings\n",
    "As we know, the higher the type/token ratio is, the lower the repetition rate of that text. <br>There is no surprising that ***learned*** is the last one, because in academic papers, certain specialized words are referred again and again.<br>\n",
    "The ratios of ***reviews***, ***science_fiction*** and ***humor*** are really high, while the articles in these categories require various words to make description."
   ]
  },
  {
   "cell_type": "markdown",
   "metadata": {},
   "source": [
    "#### Collocations and/or frequent content n-grams for each. "
   ]
  },
  {
   "cell_type": "code",
   "execution_count": 234,
   "metadata": {},
   "outputs": [],
   "source": [
    "def getCollocations(tokens,window_size):\n",
    "    text=nltk.Text(tokens)\n",
    "    return text.collocation_list(window_size=window_size,num=10000)"
   ]
  },
  {
   "cell_type": "code",
   "execution_count": 235,
   "metadata": {},
   "outputs": [],
   "source": [
    "collocations={}\n",
    "for text in texts:\n",
    "    collocations[text]=getCollocations(texts[text],2)"
   ]
  },
  {
   "cell_type": "code",
   "execution_count": 236,
   "metadata": {},
   "outputs": [],
   "source": [
    "numOfNgrams=[len(collocations[category]) for category in collocations]"
   ]
  },
  {
   "cell_type": "code",
   "execution_count": 242,
   "metadata": {},
   "outputs": [],
   "source": [
    "numDF=pd.DataFrame(numOfNgrams,index=labels,columns=['num'])"
   ]
  },
  {
   "cell_type": "code",
   "execution_count": 244,
   "metadata": {},
   "outputs": [
    {
     "data": {
      "text/plain": [
       "<matplotlib.axes._subplots.AxesSubplot at 0x1aacf17588>"
      ]
     },
     "execution_count": 244,
     "metadata": {},
     "output_type": "execute_result"
    },
    {
     "data": {
      "image/png": "[encoded data removed]",
      "text/plain": [
       "<Figure size 432x288 with 1 Axes>"
      ]
     },
     "metadata": {},
     "output_type": "display_data"
    }
   ],
   "source": [
    "numDF.plot(kind='barh')"
   ]
  },
  {
   "cell_type": "markdown",
   "metadata": {},
   "source": [
    "##### findings\n",
    "I counted the number of collocations in each category. The result of each category varies a lot. ***learned*** ranks first and the collocation number of ***science_fiction*** and ***humor*** are quite small."
   ]
  },
  {
   "cell_type": "markdown",
   "metadata": {},
   "source": [
    "#### A pattern like 'like a JJ NN'."
   ]
  },
  {
   "cell_type": "code",
   "execution_count": 85,
   "metadata": {},
   "outputs": [],
   "source": [
    "def likeaJJNN(pairs):\n",
    "    matches = []\n",
    "    for i, pair in enumerate(pairs): \n",
    "        word = pair[0]\n",
    "        pos = pair[1]\n",
    "        if i<len(pairs)-3:\n",
    "            nextWord = pairs[i+1][0]\n",
    "            nextNextWord = pairs[i+2][0]\n",
    "            nextNextPOS = pairs[i+2][1]\n",
    "            nextNextNextWord=pairs[i+3][0]\n",
    "            nextNextNextPOS=pairs[i+3][1]\n",
    "            if word == \"like\" and nextWord == \"a\" and nextNextPOS == 'JJ' and nextNextNextPOS=='NN': \n",
    "                matches.append([word, nextWord, nextNextWord,nextNextNextWord])\n",
    "    return matches"
   ]
  },
  {
   "cell_type": "code",
   "execution_count": 86,
   "metadata": {},
   "outputs": [],
   "source": [
    "likeaJJNNs={}\n",
    "for text in texts:\n",
    "    textTags=nltk.pos_tag(texts[text])\n",
    "    likeaJJNNs[text]=likeaJJNN(textTags)"
   ]
  },
  {
   "cell_type": "code",
   "execution_count": 87,
   "metadata": {},
   "outputs": [
    {
     "data": {
      "text/plain": [
       "{'adventure': [['like', 'a', 'hideous', 'devil'],\n",
       "  ['like', 'a', 'rare', 'wine'],\n",
       "  ['like', 'a', 'ski', 'jump'],\n",
       "  ['like', 'a', 'timid', 'rooster'],\n",
       "  ['like', 'a', 'morning-frightened', \"sparrow's\"]],\n",
       " 'belles_lettres': [['like', 'a', 'young', 'prince'],\n",
       "  ['like', 'a', 'visual', 'echo'],\n",
       "  ['like', 'a', 'blown-up', 'paper'],\n",
       "  ['like', 'a', 'well-fleshed', 'lay'],\n",
       "  ['like', 'a', 'perfect', 'gentleman'],\n",
       "  ['like', 'a', 'literary', 'movement']],\n",
       " 'editorial': [['like', 'a', 'sizable', 'hunk']],\n",
       " 'fiction': [['like', 'a', 'wild', 'tangle'],\n",
       "  ['like', 'a', 'muffled', 'drum'],\n",
       "  ['like', 'a', 'green-scaled', 'monster'],\n",
       "  ['like', 'a', 'headless', 'creature'],\n",
       "  ['like', 'a', 'punctured', 'bolster'],\n",
       "  ['like', 'a', 'physical', 'pain'],\n",
       "  ['like', 'a', 'weary', 'hound'],\n",
       "  ['like', 'a', 'primeval', 'memory'],\n",
       "  ['like', 'a', 'mean', 'horse'],\n",
       "  ['like', 'a', 'blind', 'man']],\n",
       " 'government': [],\n",
       " 'hobbies': [['like', 'a', 'large', 'pear'],\n",
       "  ['like', 'a', 'real', 'orchestra'],\n",
       "  ['like', 'a', 'mechanical', 'puzzle'],\n",
       "  ['like', 'a', 'wonderful', 'prospect'],\n",
       "  ['like', 'a', 'splendid', 'candidate'],\n",
       "  ['like', 'a', 'fine', 'runabout'],\n",
       "  ['like', 'a', 'young', 'giant'],\n",
       "  ['like', 'a', 'large', 'order']],\n",
       " 'humor': [['like', 'a', 'newborn', 'calf'], ['like', 'a', 'huge', 'balloon']],\n",
       " 'learned': [['like', 'a', 'spread-out', 'deck'],\n",
       "  ['like', 'a', 'complete', 'answer']],\n",
       " 'lore': [['like', 'a', 'good', 'time'],\n",
       "  ['like', 'a', 'blind', 'dog'],\n",
       "  ['like', 'a', 'roasted', 'maget'],\n",
       "  ['like', 'a', 'maryed', 'man'],\n",
       "  ['like', 'a', 'wet', 'rag']],\n",
       " 'mystery': [['like', 'a', 'big', 'joke'],\n",
       "  ['like', 'a', 'good', 'father'],\n",
       "  ['like', 'a', 'muffled', 'thud'],\n",
       "  ['like', 'a', 'scared', 'cat'],\n",
       "  ['like', 'a', 'tan', 'prune']],\n",
       " 'news': [],\n",
       " 'religion': [['like', 'a', 'mysterious', 'epidemic'],\n",
       "  ['like', 'a', 'little', 'group'],\n",
       "  ['like', 'a', 'great', 'balloon']],\n",
       " 'reviews': [['like', 'a', 'fine', 'wine'], ['like', 'a', 'new', 'bull']],\n",
       " 'romance': [['like', 'a', 'tangible', 'pall'],\n",
       "  ['like', 'a', 'young', 'man'],\n",
       "  ['like', 'a', 'black', 'snake'],\n",
       "  ['like', 'a', 'good', 'idea'],\n",
       "  ['like', 'a', 'hollow', 'mockery'],\n",
       "  ['like', 'a', 'pale', 'girl']],\n",
       " 'science_fiction': []}"
      ]
     },
     "execution_count": 87,
     "metadata": {},
     "output_type": "execute_result"
    }
   ],
   "source": [
    "likeaJJNNs"
   ]
  },
  {
   "cell_type": "markdown",
   "metadata": {},
   "source": [
    "#### words/POSes appear more often in each category"
   ]
  },
  {
   "cell_type": "code",
   "execution_count": 95,
   "metadata": {},
   "outputs": [],
   "source": [
    "noStopTexts={}\n",
    "for text in texts:\n",
    "    words=[word.lower() for word in texts[text]]\n",
    "    noStopTexts[text]=[word for word in words if word.isalpha() and word not in stopwords.words('english')]"
   ]
  },
  {
   "cell_type": "code",
   "execution_count": 96,
   "metadata": {},
   "outputs": [],
   "source": [
    "mostCommons={}\n",
    "for text in noStopTexts:\n",
    "    res={}\n",
    "    word=noStopTexts[text]\n",
    "    res['most common words']=collections.Counter(word).most_common(5)\n",
    "    POSes=[tag[1] for tag in nltk.pos_tag(word)]\n",
    "    res['most common POSes']=collections.Counter(POSes).most_common(5)\n",
    "    mostCommons[text]=res"
   ]
  },
  {
   "cell_type": "code",
   "execution_count": 97,
   "metadata": {},
   "outputs": [
    {
     "data": {
      "text/plain": [
       "{'adventure': {'most common words': [('said', 288),\n",
       "   ('would', 194),\n",
       "   ('one', 183),\n",
       "   ('back', 166),\n",
       "   ('man', 166)],\n",
       "  'most common POSes': [('NN', 9093),\n",
       "   ('JJ', 4787),\n",
       "   ('VBD', 3307),\n",
       "   ('NNS', 2398),\n",
       "   ('RB', 2271)]},\n",
       " 'belles_lettres': {'most common words': [('one', 550),\n",
       "   ('would', 397),\n",
       "   ('new', 278),\n",
       "   ('time', 231),\n",
       "   ('man', 231)],\n",
       "  'most common POSes': [('NN', 24658),\n",
       "   ('JJ', 15738),\n",
       "   ('NNS', 8524),\n",
       "   ('RB', 5220),\n",
       "   ('VBD', 4715)]},\n",
       " 'editorial': {'most common words': [('would', 185),\n",
       "   ('one', 173),\n",
       "   ('new', 134),\n",
       "   ('united', 82),\n",
       "   ('may', 79)],\n",
       "  'most common POSes': [('NN', 9184),\n",
       "   ('JJ', 5732),\n",
       "   ('NNS', 3346),\n",
       "   ('RB', 1789),\n",
       "   ('VBD', 1325)]},\n",
       " 'fiction': {'most common words': [('would', 291),\n",
       "   ('said', 194),\n",
       "   ('one', 184),\n",
       "   ('could', 168),\n",
       "   ('like', 151)],\n",
       "  'most common POSes': [('NN', 9079),\n",
       "   ('JJ', 4978),\n",
       "   ('VBD', 2916),\n",
       "   ('NNS', 2529),\n",
       "   ('RB', 2031)]},\n",
       " 'government': {'most common words': [('state', 196),\n",
       "   ('year', 183),\n",
       "   ('states', 180),\n",
       "   ('may', 179),\n",
       "   ('united', 155)],\n",
       "  'most common POSes': [('NN', 11638),\n",
       "   ('JJ', 6326),\n",
       "   ('NNS', 4968),\n",
       "   ('RB', 1431),\n",
       "   ('VBD', 1413)]},\n",
       " 'hobbies': {'most common words': [('one', 286),\n",
       "   ('new', 149),\n",
       "   ('may', 143),\n",
       "   ('time', 133),\n",
       "   ('first', 126)],\n",
       "  'most common POSes': [('NN', 12697),\n",
       "   ('JJ', 7272),\n",
       "   ('NNS', 5207),\n",
       "   ('RB', 2237),\n",
       "   ('VBP', 1901)]},\n",
       " 'humor': {'most common words': [('said', 88),\n",
       "   ('one', 77),\n",
       "   ('would', 56),\n",
       "   ('time', 44),\n",
       "   ('even', 39)],\n",
       "  'most common POSes': [('NN', 2793),\n",
       "   ('JJ', 1755),\n",
       "   ('NNS', 865),\n",
       "   ('VBD', 753),\n",
       "   ('RB', 695)]},\n",
       " 'learned': {'most common words': [('af', 908),\n",
       "   ('one', 518),\n",
       "   ('may', 336),\n",
       "   ('would', 321),\n",
       "   ('two', 250)],\n",
       "  'most common POSes': [('NN', 27645),\n",
       "   ('JJ', 17401),\n",
       "   ('NNS', 11215),\n",
       "   ('RB', 5461),\n",
       "   ('VBD', 4008)]},\n",
       " 'lore': {'most common words': [('one', 361),\n",
       "   ('would', 188),\n",
       "   ('time', 178),\n",
       "   ('may', 170),\n",
       "   ('new', 162)],\n",
       "  'most common POSes': [('NN', 15975),\n",
       "   ('JJ', 9911),\n",
       "   ('NNS', 6236),\n",
       "   ('RB', 3405),\n",
       "   ('VBD', 3147)]},\n",
       " 'mystery': {'most common words': [('said', 204),\n",
       "   ('would', 189),\n",
       "   ('one', 172),\n",
       "   ('back', 158),\n",
       "   ('could', 145)],\n",
       "  'most common POSes': [('NN', 7598),\n",
       "   ('JJ', 3931),\n",
       "   ('VBD', 2454),\n",
       "   ('RB', 1928),\n",
       "   ('NNS', 1576)]},\n",
       " 'news': {'most common words': [('said', 406),\n",
       "   ('would', 246),\n",
       "   ('new', 241),\n",
       "   ('one', 213),\n",
       "   ('last', 177)],\n",
       "  'most common POSes': [('NN', 17533),\n",
       "   ('JJ', 8647),\n",
       "   ('NNS', 5737),\n",
       "   ('VBD', 3404),\n",
       "   ('RB', 2295)]},\n",
       " 'religion': {'most common words': [('god', 136),\n",
       "   ('one', 104),\n",
       "   ('new', 99),\n",
       "   ('world', 94),\n",
       "   ('church', 94)],\n",
       "  'most common POSes': [('NN', 5577),\n",
       "   ('JJ', 3480),\n",
       "   ('NNS', 1941),\n",
       "   ('RB', 1231),\n",
       "   ('VBD', 806)]},\n",
       " 'reviews': {'most common words': [('one', 125),\n",
       "   ('new', 90),\n",
       "   ('music', 74),\n",
       "   ('first', 69),\n",
       "   ('man', 58)],\n",
       "  'most common POSes': [('NN', 6167),\n",
       "   ('JJ', 3926),\n",
       "   ('NNS', 2200),\n",
       "   ('RB', 1391),\n",
       "   ('VBD', 878)]},\n",
       " 'romance': {'most common words': [('said', 331),\n",
       "   ('would', 247),\n",
       "   ('could', 195),\n",
       "   ('like', 189),\n",
       "   ('one', 182)],\n",
       "  'most common POSes': [('NN', 8643),\n",
       "   ('JJ', 5114),\n",
       "   ('VBD', 2862),\n",
       "   ('NNS', 2260),\n",
       "   ('RB', 2210)]},\n",
       " 'science_fiction': {'most common words': [('would', 80),\n",
       "   ('could', 49),\n",
       "   ('said', 45),\n",
       "   ('one', 39),\n",
       "   ('time', 34)],\n",
       "  'most common POSes': [('NN', 1787),\n",
       "   ('JJ', 1172),\n",
       "   ('NNS', 571),\n",
       "   ('VBD', 506),\n",
       "   ('RB', 460)]}}"
      ]
     },
     "execution_count": 97,
     "metadata": {},
     "output_type": "execute_result"
    }
   ],
   "source": [
    "mostCommons"
   ]
  },
  {
   "cell_type": "markdown",
   "metadata": {},
   "source": [
    "### 3. Complete ONE of the following mini-projects. \n",
    "\n",
    "**For each, please write at least one paragraph where you describe and explain your results in terms of the text(s) you're studying.**\n",
    "\n",
    "1. Topic-model your corpus using LDA. What do you notice? Create a visualization of it, if you want. \n",
    "2. Explore the differences between quoted and non-quoted text in either _The Moonstone_ or in Mansfield's stories. What kinds of words/POSes appear more often in each category? Use any techniques we've learned so far. \n",
    "3. Explore the Brown Corpus, by category. What kinds of words/POSes appear more often in each category? Create a visualization or two of your explorations. \n",
    "4. Conduct a comparative stylometric analysis of a corpus of your choosing, using PCA. (Maybe the Brown Corpus, Inaugural Address Corpus, or a corpus of chapters in _The Moonstone_. According to your PCA output, which are the outliers (the most statistically dissimilar from the others)? Which are the most similar to each other? Why do you think this is? \n",
    "5. Make a simple genre categorizer that tries to guess the genre of a text, based on word frequencies derived from the Brown corpus. Test it on a few texts, like Mansfield's stories. "
   ]
  },
  {
   "cell_type": "markdown",
   "metadata": {},
   "source": [
    "#### 5. A simply genre categorize"
   ]
  },
  {
   "cell_type": "code",
   "execution_count": 135,
   "metadata": {},
   "outputs": [],
   "source": [
    "rawTexts=[brown.raw(categories=category) for category in brown.categories()]"
   ]
  },
  {
   "cell_type": "code",
   "execution_count": 136,
   "metadata": {},
   "outputs": [],
   "source": [
    "tfidf = TfidfVectorizer(tokenizer=nltk.word_tokenize, max_features=400)"
   ]
  },
  {
   "cell_type": "code",
   "execution_count": 137,
   "metadata": {},
   "outputs": [],
   "source": [
    "tfMatrix=tfidf.fit_transform(rawTexts)"
   ]
  },
  {
   "cell_type": "code",
   "execution_count": 138,
   "metadata": {},
   "outputs": [
    {
     "data": {
      "text/plain": [
       "['adventure',\n",
       " 'belles_lettres',\n",
       " 'editorial',\n",
       " 'fiction',\n",
       " 'government',\n",
       " 'hobbies',\n",
       " 'humor',\n",
       " 'learned',\n",
       " 'lore',\n",
       " 'mystery',\n",
       " 'news',\n",
       " 'religion',\n",
       " 'reviews',\n",
       " 'romance',\n",
       " 'science_fiction']"
      ]
     },
     "execution_count": 138,
     "metadata": {},
     "output_type": "execute_result"
    }
   ],
   "source": [
    "labels"
   ]
  },
  {
   "cell_type": "code",
   "execution_count": 139,
   "metadata": {},
   "outputs": [],
   "source": [
    "wordLabels=tfidf.get_feature_names()"
   ]
  },
  {
   "cell_type": "code",
   "execution_count": null,
   "metadata": {},
   "outputs": [],
   "source": [
    "[collections.Counter(brown.words(categories=category)).most_common(20) for category in brown.categories()] "
   ]
  },
  {
   "cell_type": "code",
   "execution_count": 188,
   "metadata": {},
   "outputs": [],
   "source": [
    "df = pd.DataFrame(tfMatrix.todense(), index=labels, columns=wordLabels)"
   ]
  },
  {
   "cell_type": "code",
   "execution_count": 199,
   "metadata": {},
   "outputs": [
    {
     "data": {
      "text/plain": [
       "<matplotlib.axes._subplots.AxesSubplot at 0x1ab678c588>"
      ]
     },
     "execution_count": 199,
     "metadata": {},
     "output_type": "execute_result"
    },
    {
     "data": {
      "image/png": "[encoded data removed]",
      "text/plain": [
       "<Figure size 432x288 with 1 Axes>"
      ]
     },
     "metadata": {},
     "output_type": "display_data"
    }
   ],
   "source": [
    "df['a/at'].plot(kind='barh')"
   ]
  },
  {
   "cell_type": "code",
   "execution_count": 207,
   "metadata": {},
   "outputs": [],
   "source": [
    "def meanAPerCategory(category):\n",
    "    return df[df.index.str.contains(category)]['a/at'].mean()"
   ]
  },
  {
   "cell_type": "code",
   "execution_count": 208,
   "metadata": {},
   "outputs": [],
   "source": [
    "means=[meanAnPerCategory(label) for label in labels]"
   ]
  },
  {
   "cell_type": "code",
   "execution_count": 209,
   "metadata": {},
   "outputs": [],
   "source": [
    "def guessCategory(freqAn):\n",
    "    diffs=[abs(mean-freqAn) for mean in means]\n",
    "    indexOfMin=diffs.index(min(diffs))\n",
    "    return labels[indexOfMin]"
   ]
  },
  {
   "cell_type": "markdown",
   "metadata": {},
   "source": [
    "##### test on Mansfield's stories."
   ]
  },
  {
   "cell_type": "code",
   "execution_count": 210,
   "metadata": {},
   "outputs": [],
   "source": [
    "def freqAListOfMansfield():\n",
    "    mansfield=open('garden-party.md').read()\n",
    "    stories=mansfield.split('\\n# ')\n",
    "    labels=[story.split('\\n\\n')[0] for story in stories]\n",
    "    wordLabels = tfidf.get_feature_names()\n",
    "    tfMatrix = tfidf.fit_transform(stories)\n",
    "    df = pd.DataFrame(tfMatrix.todense(), index=labels,columns=wordLabels)\n",
    "    \n",
    "    result={}\n",
    "    for label in labels:\n",
    "        result[label]=df[df.index.str.contains(label)]['a'].mean()\n",
    "    return result"
   ]
  },
  {
   "cell_type": "code",
   "execution_count": 211,
   "metadata": {},
   "outputs": [
    {
     "data": {
      "text/plain": [
       "{'# 1. AT THE BAY.\\n## Chapter 1.I.': 0.18172380722544854,\n",
       " '2. THE GARDEN PARTY.': 0.1345576973496949,\n",
       " '3. THE DAUGHTERS OF THE LATE COLONEL.': 0.1277471298366955,\n",
       " '4. MR. AND MRS. DOVE.': 0.0948180626496792,\n",
       " '5. THE YOUNG GIRL.': 0.16260304234119455,\n",
       " '6. LIFE OF MA PARKER.': 0.1938412358764289,\n",
       " '7. MARRIAGE A LA MODE.': 0.14588301605207152,\n",
       " '8. THE VOYAGE.': 0.19882225762251168,\n",
       " '9. MISS BRILL.': 0.18134162144304042,\n",
       " '10. HER FIRST BALL.': 0.1344147088913249,\n",
       " '11. THE SINGING LESSON.': 0.13456880135577357,\n",
       " '12. THE STRANGER': 0.10083617202898489,\n",
       " '13. BANK HOLIDAY.': 0.3206349926283999,\n",
       " '14. AN IDEAL FAMILY.': 0.10815925542957351,\n",
       " \"15. The Lady's Maid\": 0.12453860901214696}"
      ]
     },
     "execution_count": 211,
     "metadata": {},
     "output_type": "execute_result"
    }
   ],
   "source": [
    "freqAListOfMansfield()"
   ]
  },
  {
   "cell_type": "code",
   "execution_count": 214,
   "metadata": {},
   "outputs": [],
   "source": [
    "categoryOfMansfiled={}\n",
    "freqAListOfMansfield=freqAListOfMansfield()\n",
    "for story in freqAListOfMansfield:\n",
    "    categoryOfMansfiled[story]= guessCategory(freqAListOfMansfield[story])"
   ]
  },
  {
   "cell_type": "code",
   "execution_count": 215,
   "metadata": {},
   "outputs": [
    {
     "data": {
      "text/plain": [
       "{'# 1. AT THE BAY.\\n## Chapter 1.I.': 'hobbies',\n",
       " '2. THE GARDEN PARTY.': 'hobbies',\n",
       " '3. THE DAUGHTERS OF THE LATE COLONEL.': 'lore',\n",
       " '4. MR. AND MRS. DOVE.': 'romance',\n",
       " '5. THE YOUNG GIRL.': 'hobbies',\n",
       " '6. LIFE OF MA PARKER.': 'hobbies',\n",
       " '7. MARRIAGE A LA MODE.': 'hobbies',\n",
       " '8. THE VOYAGE.': 'hobbies',\n",
       " '9. MISS BRILL.': 'hobbies',\n",
       " '10. HER FIRST BALL.': 'hobbies',\n",
       " '11. THE SINGING LESSON.': 'hobbies',\n",
       " '12. THE STRANGER': 'religion',\n",
       " '13. BANK HOLIDAY.': 'hobbies',\n",
       " '14. AN IDEAL FAMILY.': 'mystery',\n",
       " \"15. The Lady's Maid\": 'news'}"
      ]
     },
     "execution_count": 215,
     "metadata": {},
     "output_type": "execute_result"
    }
   ],
   "source": [
    "categoryOfMansfiled"
   ]
  },
  {
   "cell_type": "markdown",
   "metadata": {},
   "source": [
    "##### findings\n",
    "I'm surprised at the result because it seems different from their actual category.<br>\n",
    "The above result comes from using the word ***a*** as a metric, while the result will be totally different if I choose another word as a metric. So maybe the simply genre categorize is not accurate or it's very important to choose the right metric."
   ]
  }
 ],
 "metadata": {
  "kernelspec": {
   "display_name": "Python 3",
   "language": "python",
   "name": "python3"
  },
  "language_info": {
   "codemirror_mode": {
    "name": "ipython",
    "version": 3
   },
   "file_extension": ".py",
   "mimetype": "text/x-python",
   "name": "python",
   "nbconvert_exporter": "python",
   "pygments_lexer": "ipython3",
   "version": "3.6.5"
  }
 },
 "nbformat": 4,
 "nbformat_minor": 2
}
