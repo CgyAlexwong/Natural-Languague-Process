{
 "cells": [
  {
   "cell_type": "markdown",
   "metadata": {},
   "source": [
    "# Homework 3\n",
    "\n",
    "## Chen Gengyang\n",
    "\n",
    "Instructions: \n",
    "\n",
    " 1. Please replace \"Yourname\" above, and in the title of this notebook. \n",
    " 2. Import all the libraries you end up using in the cell below. Please only use those libraries which we have used in class (i.e. nltk, collections, pandas, etc.). \n",
    " 3. Complete all the exercises, replacing \"enter code here\" with your code, and \"enter markdown here\" with your markdown. Annotate with comments (lines beginning with `#`) or with markdown cells, to show how you arrived at your answers.  \n",
    " 4. From the Kernel menu, select \"restart and run all.\" This will help me to see the output of your answers. \n",
    " 5. Email me your completed notebook: jonathan.reeve@columbia.edu\n"
   ]
  },
  {
   "cell_type": "code",
   "execution_count": 1,
   "metadata": {},
   "outputs": [],
   "source": [
    "# Import your libraries here. \n",
    "import nltk\n",
    "import pandas as pd\n",
    "from nltk.corpus import stopwords\n",
    "import collections\n",
    "%matplotlib inline"
   ]
  },
  {
   "cell_type": "markdown",
   "metadata": {},
   "source": [
    "### 1. Find the longest word in _The Moonstone_. "
   ]
  },
  {
   "cell_type": "code",
   "execution_count": 2,
   "metadata": {},
   "outputs": [],
   "source": [
    "moonstone = open('moonstone.md').read()"
   ]
  },
  {
   "cell_type": "code",
   "execution_count": 3,
   "metadata": {},
   "outputs": [],
   "source": [
    "moonstoneTokens = nltk.word_tokenize(moonstone)"
   ]
  },
  {
   "cell_type": "code",
   "execution_count": 4,
   "metadata": {},
   "outputs": [],
   "source": [
    "moonstoneTokensClean = [token for token in moonstoneTokens if token.isalpha()]"
   ]
  },
  {
   "cell_type": "code",
   "execution_count": 5,
   "metadata": {},
   "outputs": [],
   "source": [
    "longestLength = 0 \n",
    "longestWords = []\n",
    "for token in moonstoneTokensClean: \n",
    "    if len(token) > longestLength: \n",
    "        longestLength = len(token)\n",
    "        longestWords = [token]\n",
    "    if len(token) == longestLength:\n",
    "        longestWords.append(token)"
   ]
  },
  {
   "cell_type": "code",
   "execution_count": 6,
   "metadata": {},
   "outputs": [
    {
     "data": {
      "text/plain": [
       "{'misunderstandings'}"
      ]
     },
     "execution_count": 6,
     "metadata": {},
     "output_type": "execute_result"
    }
   ],
   "source": [
    "set(longestWords)"
   ]
  },
  {
   "cell_type": "markdown",
   "metadata": {},
   "source": [
    "### 2. Find the longest sentence in _The Moonstone_. Who is the speaker or narrator of that sentence? "
   ]
  },
  {
   "cell_type": "code",
   "execution_count": 7,
   "metadata": {},
   "outputs": [],
   "source": [
    "moonParts = moonstone.split('\\n## ')"
   ]
  },
  {
   "cell_type": "code",
   "execution_count": 8,
   "metadata": {},
   "outputs": [],
   "source": [
    "allNarrators=['GABRIEL BETTEREDGE','MISS CLACK','MATHEW BRUFF','FRANKLIN BLAKE','EZRA JENNINGS','FRANKLIN BLAKE','SERGEANT CUFF','MR. CANDY','GABRIEL BETTEREDGE','finding']\n",
    "betteredge1,clack,bruff,blake1,jennings,blake2,cuff,candy,betteredge2,finding=[moonParts[i] for i in [2,4,5,6,7,8,9,10,11,12]]\n",
    "allNarratives=[betteredge1,clack,bruff,blake1,jennings,blake2,cuff,candy,betteredge2,finding]"
   ]
  },
  {
   "cell_type": "code",
   "execution_count": 9,
   "metadata": {},
   "outputs": [],
   "source": [
    "longestLength=0\n",
    "longestSent=''\n",
    "narrIndex=0\n",
    "for i,narr in enumerate(allNarratives):\n",
    "    sents=nltk.sent_tokenize(narr)\n",
    "    for sent in sents:\n",
    "        if len(sent)>longestLength:\n",
    "            longestLength=len(sent)\n",
    "            longestSent=sent\n",
    "            narrIndex=i"
   ]
  },
  {
   "cell_type": "code",
   "execution_count": 10,
   "metadata": {},
   "outputs": [
    {
     "name": "stdout",
     "output_type": "stream",
     "text": [
      "On this, the disconnected words,\n",
      "and fragments of sentences, which had dropped from Mr. Candy in his\n",
      "delirium, appeared as follows:\n",
      "\n",
      "“… Mr. Franklin Blake … and agreeable … down a peg … medicine …\n",
      "confesses … sleep at night … tell him … out of order … medicine … he\n",
      "tells me … and groping in the dark mean one and the same thing … all the\n",
      "company at the dinner-table … I say … groping after sleep … nothing but\n",
      "medicine … he says … leading the blind … know what it means … witty … a\n",
      "night’s rest in spite of his teeth … wants sleep … Lady Verinder’s\n",
      "medicine chest … five-and-twenty minims … without his knowing it …\n",
      "to-morrow morning … Well, Mr. Blake … medicine to-day … never … without\n",
      "it … out, Mr. Candy … excellent … without it … down on him … truth …\n",
      "something besides … excellent … dose of laudanum, sir … bed … what …\n",
      "medicine now.”\n",
      "\n",
      "There, the first of the two sheets of paper came to an end.\n"
     ]
    }
   ],
   "source": [
    "print(longestSent)"
   ]
  },
  {
   "cell_type": "code",
   "execution_count": 11,
   "metadata": {},
   "outputs": [
    {
     "name": "stdout",
     "output_type": "stream",
     "text": [
      "The narrator of the longest sentence:  FRANKLIN BLAKE\n"
     ]
    }
   ],
   "source": [
    "print('The narrator of the longest sentence: ',allNarrators[narrIndex])"
   ]
  },
  {
   "cell_type": "markdown",
   "metadata": {},
   "source": [
    "### 3. Find the longest ngram in _The Moonstone_ that occurs at least twice. What you do notice about it? "
   ]
  },
  {
   "cell_type": "code",
   "execution_count": 12,
   "metadata": {},
   "outputs": [],
   "source": [
    "moonTokens = [word for word in nltk.word_tokenize(moonstone)]"
   ]
  },
  {
   "cell_type": "code",
   "execution_count": 43,
   "metadata": {},
   "outputs": [],
   "source": [
    "longestNgram=[]\n",
    "isLongest=False\n",
    "for n in range(20,1,-1):\n",
    "    ngrams=nltk.ngrams(moonTokens,n)\n",
    "    counter=dict(collections.Counter(ngrams))\n",
    "    for count in counter:\n",
    "        if counter[count]>2:\n",
    "            longestNgram.append(count)\n",
    "            isLongest=True\n",
    "    if isLongest:\n",
    "        break"
   ]
  },
  {
   "cell_type": "markdown",
   "metadata": {},
   "source": [
    "#### ⚠️ 20 is too small. And it restricts the finding of the longest ngram."
   ]
  },
  {
   "cell_type": "code",
   "execution_count": 44,
   "metadata": {},
   "outputs": [
    {
     "name": "stdout",
     "output_type": "stream",
     "text": [
      "on the road to this house , and on no other , that the english gentleman will travel\n"
     ]
    }
   ],
   "source": [
    "for ngram in longestNgram:\n",
    "    print(' '.join(ngram))"
   ]
  },
  {
   "cell_type": "code",
   "execution_count": 45,
   "metadata": {},
   "outputs": [
    {
     "data": {
      "text/plain": [
       "18"
      ]
     },
     "execution_count": 45,
     "metadata": {},
     "output_type": "execute_result"
    }
   ],
   "source": [
    "len(longestNgram[0])"
   ]
  },
  {
   "cell_type": "markdown",
   "metadata": {},
   "source": [
    "#### My Findings\n",
    "As usual, the ngrams that occur at least twice are some commonly used phrase, proverbs or quotes. However, the length of the longest ngram I found in *The Moonstone* is so long that it seems a little strange. So I search for where the longest ngram comes from.<br><br>\n",
    "The context of this longest ngram is as followed:\n",
    "> The Indian said, “Is it **on the road to this house, and on no other, that the English gentleman will travel** to-day?”\n",
    "\n",
    "> The boy said, “It is **on the road to this house, and on no other, that the English gentleman will travel** to-day.” The Indian put a second question–after waiting a little first. He said: “Has the English gentleman got It about him?”\n",
    "\n",
    "Then I found that it's a long phrase with an attributive clause. Althought this kind of descriptions is commonly seen in the novel, it seldom occurs twice since no one would repeat such a lengthy description verbatim. Therefore, something strange must occur here. Looking back on the plot, I figured out that it's where indians first showed their magic. For this reason, the poor boy seemed to be under control and repeated the long phrase.<br>\n",
    "By the way, the word *to-day* should have been counted as well, but it wasn't due to the difference punctuation after the word."
   ]
  },
  {
   "cell_type": "markdown",
   "metadata": {},
   "source": [
    "#### Answer"
   ]
  },
  {
   "cell_type": "code",
   "execution_count": 42,
   "metadata": {},
   "outputs": [
    {
     "name": "stdout",
     "output_type": "stream",
     "text": [
      "('The', 'valuable', 'assistance', 'which', 'you', 'rendered', 'to', 'the', 'inquiry', 'after', 'the', 'lost', 'jewel', 'is', 'still', 'an', 'unpardoned', 'offence', 'in', 'the', 'present', 'dreadful', 'state', 'of', 'Rachel', 's', 'mind', 'Moving', 'blindfold', 'in', 'this', 'matter', 'you', 'have', 'added', 'to', 'the', 'burden', 'of', 'anxiety', 'which', 'she', 'has', 'had', 'to', 'bear', 'by', 'innocently', 'threatening', 'her', 'secret', 'with', 'discovery', 'through', 'your')\n"
     ]
    }
   ],
   "source": [
    "longest=''\n",
    "for i in range(100,0,-1):\n",
    "    moonstoneNgrams=nltk.ngrams(moonstoneTokensClean,i)\n",
    "    mostCommon=collections.Counter(moonstoneNgrams).most_common(1)\n",
    "    numTimes=mostCommon[0][1]\n",
    "    ngram=mostCommon[0][0]\n",
    "    if numTimes>=2:\n",
    "        longest=ngram\n",
    "        break\n",
    "print(longest)"
   ]
  },
  {
   "cell_type": "markdown",
   "metadata": {},
   "source": [
    "### 4. Find a pattern, of 2-5 words, at least one of which is a part of speech, that occurs at least twice in _The Moonstone_. For example, you might look for JJS-NN (superlative - noun), very-JJ-NNP (\"very\" - adjective - proper noun), or '.'-CC (a period followed by a coordinating conjunction). What do you notice about your findings?"
   ]
  },
  {
   "cell_type": "code",
   "execution_count": 17,
   "metadata": {},
   "outputs": [],
   "source": [
    "moonTokens=nltk.word_tokenize(moonstone.lower())"
   ]
  },
  {
   "cell_type": "code",
   "execution_count": 18,
   "metadata": {},
   "outputs": [],
   "source": [
    "moonTags=nltk.pos_tag(moonTokens)"
   ]
  },
  {
   "cell_type": "code",
   "execution_count": 19,
   "metadata": {},
   "outputs": [],
   "source": [
    "def popularJJSNN(pairs):\n",
    "    \"\"\" This function takes (token, POS) pairs and \n",
    "        looks for patterns like \"best friend\" \n",
    "    \"\"\"\n",
    "    matches = []\n",
    "    for i, pair in enumerate(pairs):\n",
    "        word=pair[0]\n",
    "        pos = pair[1]\n",
    "        if i < len(pairs)-2:\n",
    "            nextWord = pairs[i+1][0]\n",
    "            nextWordPOS = pairs[i+1][1]\n",
    "            if pos == \"JJS\" and (nextWordPOS == \"NN\" or nextWordPOS == \"NNS\"):\n",
    "                matches.append(' '.join([word, nextWord]))\n",
    "    counter=dict(collections.Counter(matches))\n",
    "    popularJJSNN=[(pair,counter[pair]) for pair in counter if counter[pair]>=2]\n",
    "    return popularJJSNN"
   ]
  },
  {
   "cell_type": "code",
   "execution_count": 20,
   "metadata": {},
   "outputs": [
    {
     "data": {
      "text/plain": [
       "[('choicest treasures', 2),\n",
       " ('best respects', 3),\n",
       " ('best thing', 2),\n",
       " ('most things', 2),\n",
       " ('shortest way', 2),\n",
       " ('largest diamonds', 2),\n",
       " ('best friend', 3),\n",
       " ('earliest convenience', 2),\n",
       " ('greatest pleasure', 3),\n",
       " ('dearest rachel', 3),\n",
       " ('slightest effect', 3),\n",
       " ('manifest usefulness', 2),\n",
       " ('deepest interest', 2),\n",
       " ('slightest interest', 2),\n",
       " ('speediest way', 2),\n",
       " ('safest person', 2),\n",
       " ('earliest period', 2),\n",
       " ('worst bitterness', 2),\n",
       " ('honest men', 2),\n",
       " ('greatest surprise', 2),\n",
       " ('most men', 2)]"
      ]
     },
     "execution_count": 20,
     "metadata": {},
     "output_type": "execute_result"
    }
   ],
   "source": [
    "popularJJSNN(moonTags)"
   ]
  },
  {
   "cell_type": "markdown",
   "metadata": {},
   "source": [
    "#### My findings\n",
    "* The times of phrases in **JJS-NN** pattern are all around 2 or 3, without some particularly\n",
    "high-frequency phrases. Also, the JJS-NNs I found contain several word groups which are commonly seen in most of the literature work, such as *best thing*, *greatest pleasure*, *most things* and *best friend*.\n",
    "* Of course, from part of these phrases, such as *choicest treasures*, *largest diamonds*，*deepest interest* and *slightest interest*, we can get a glimpse of the theme of the story, which is centain about the diamond.\n",
    "* *worst bitterness*, *greatest surprise*, *slightest effect* imply the twists and turns of the plot of the story."
   ]
  },
  {
   "cell_type": "markdown",
   "metadata": {},
   "source": [
    "### 5. Write a couple paragraphs where you describe one or two ideas for a final project. What text(s) will you analyze? What technologies will you use? What literary questions do you hope to answer? This doesn't have to be your final decision. "
   ]
  },
  {
   "cell_type": "markdown",
   "metadata": {},
   "source": [
    "* **Text**: The Garden Party and Other Stories\n",
    "* **Objectives**: Syntax Analysis and Semantic Analysis\n",
    "    * Syntax Analysis\n",
    "        * use `nltk.ngrams`, `FreqDist` to figure out Katherine Mansfield's favourite ngrams.\n",
    "        * text similarity among different stories to figure out whether Katherine Mansfield has a fixed writing habits.\n",
    "            1. use `nltk.word_tokenize` to tokenize words\n",
    "            2. use `nltk.corpus.stopwords` to remove stopwords\n",
    "            3. remove the low-frequency words\n",
    "            4. use `gensim.similarities` to compute the text similarity\n",
    "    * Semantic Analysis\n",
    "        * use `nltk.probability` to count the top 10 words that appear most frequently in each story.\n",
    "        * use `matplotlib` to generate a word cloud of Katherine Mansfield's favourite words.(use `nltk.corpus` to remove the stopwords)"
   ]
  },
  {
   "cell_type": "markdown",
   "metadata": {},
   "source": [
    "### 6-8. Choose ONE of the following mini-projects to complete. Make sure that in each case, you discuss your results in well-formatted markdown. \n",
    "\n",
    "1. Make a big list of color words using WordNet, and then use that to find the predominant color of \"The Garden Party,\" in terms of color words. Then, in one paragraph, interpret your results in terms of the story. Make a visualization of your results. (You can get the colors right with something like pandas `DataFrame.plot(kind=\"pie\", colormap=\"your-colors-here\")`. You might have to read a little about how to use color maps.)\n",
    "\n",
    "2. Make a function to calculate the ratio of male pronouns to female pronouns. Then use that to test the male/female pronoun ratio of each narrator (you can treat Betteredge's two narratives as one). Create a chart with your results. \n",
    "\n",
    "3. Calculate how proportions of parts of speech are different for each narrator in _The Moonstone_. Do any narrators stand out in their usage of certain parts of speech? Discuss your results, and support your findings with a few examples from the text. Create a bar chart with your results. \n",
    "\n",
    "4. Categorize the nouns (or verbs, or another POS) of _The Moonstone_, by getting their WordNet hypernyms. (Hint: you can get more specific results than just \"entity\" by stopping at a pre-specified `max_depth` or `min_depth`.) Create a visualization with your results. \n",
    "\n",
    "5. Download a few more Collins novels, either manually or programmatically, using [corpus-db.org](http://corpus-db.org). What are the words that appear in _The Moonstone_ more than other novels of Collins's? (Be sure to use frequencies, rather than raw counts.) If you disregard proper names ('NNP' in terms of POS), what are the remaining distinctive words? \n",
    "\n"
   ]
  },
  {
   "cell_type": "code",
   "execution_count": 21,
   "metadata": {},
   "outputs": [],
   "source": [
    "# 2\n",
    "malePRP = ['he','his','him','himself']\n",
    "femalePRP = ['she','her','herself']"
   ]
  },
  {
   "cell_type": "code",
   "execution_count": 22,
   "metadata": {},
   "outputs": [],
   "source": [
    "def totalCount(lst,para):\n",
    "    \"\"\"This function takes a list and a paragraph\n",
    "        and returns the sum of the occurrence times of each word in the list.\n",
    "    \"\"\"\n",
    "    wordTokens=nltk.word_tokenize(para)\n",
    "    return sum([wordTokens.count(word) for word in lst])"
   ]
  },
  {
   "cell_type": "code",
   "execution_count": 23,
   "metadata": {},
   "outputs": [],
   "source": [
    "def calPronounRatio(narr):\n",
    "    \"\"\"This function takes a paragraph \n",
    "        and calculates the male/female pronoun ratio of this paragraph\n",
    "    \"\"\"  \n",
    "    malePRPCount=totalCount(malePRP,narr)\n",
    "    femalePRPCount=totalCount(femalePRP,narr)\n",
    "    if femalePRPCount==0:\n",
    "        return 'NaN'\n",
    "    else:\n",
    "        return totalCount(malePRP,narr)/totalCount(femalePRP,narr)"
   ]
  },
  {
   "cell_type": "code",
   "execution_count": 24,
   "metadata": {},
   "outputs": [],
   "source": [
    "allNarrators=['GABRIEL BETTEREDGE','MISS CLACK','MATHEW BRUFF','FRANKLIN BLAKE','EZRA JENNINGS','SERGEANT CUFF','MR. CANDY']\n",
    "betteredge1,clack,bruff,blake1,jennings,blake2,cuff,candy,betteredge2=[moonParts[i] for i in [2,4,5,6,7,8,9,10,11]]\n",
    "allNarratives=[betteredge1+betteredge2,clack,bruff,blake1+blake2,jennings,cuff,candy]"
   ]
  },
  {
   "cell_type": "code",
   "execution_count": 25,
   "metadata": {},
   "outputs": [],
   "source": [
    "allRatios=[calPronounRatio(narr) for narr in allNarratives]"
   ]
  },
  {
   "cell_type": "code",
   "execution_count": 26,
   "metadata": {},
   "outputs": [],
   "source": [
    "df=pd.DataFrame(allRatios,index=allNarrators,columns=['ratio']).T"
   ]
  },
  {
   "cell_type": "code",
   "execution_count": 27,
   "metadata": {},
   "outputs": [
    {
     "data": {
      "text/plain": [
       "<matplotlib.axes._subplots.AxesSubplot at 0x1a1af00748>"
      ]
     },
     "execution_count": 27,
     "metadata": {},
     "output_type": "execute_result"
    },
    {
     "data": {
      "image/png": "[encoded data removed]",
      "text/plain": [
       "<Figure size 432x288 with 1 Axes>"
      ]
     },
     "metadata": {},
     "output_type": "display_data"
    }
   ],
   "source": [
    "df.plot(kind='barh',title='Male/Female Pronoun Ratio')"
   ]
  },
  {
   "cell_type": "code",
   "execution_count": 28,
   "metadata": {},
   "outputs": [
    {
     "data": {
      "text/html": [
       "<div>\n",
       "<style scoped>\n",
       "    .dataframe tbody tr th:only-of-type {\n",
       "        vertical-align: middle;\n",
       "    }\n",
       "\n",
       "    .dataframe tbody tr th {\n",
       "        vertical-align: top;\n",
       "    }\n",
       "\n",
       "    .dataframe thead th {\n",
       "        text-align: right;\n",
       "    }\n",
       "</style>\n",
       "<table border=\"1\" class=\"dataframe\">\n",
       "  <thead>\n",
       "    <tr style=\"text-align: right;\">\n",
       "      <th></th>\n",
       "      <th>GABRIEL BETTEREDGE</th>\n",
       "      <th>MISS CLACK</th>\n",
       "      <th>MATHEW BRUFF</th>\n",
       "      <th>FRANKLIN BLAKE</th>\n",
       "      <th>EZRA JENNINGS</th>\n",
       "      <th>SERGEANT CUFF</th>\n",
       "      <th>MR. CANDY</th>\n",
       "    </tr>\n",
       "  </thead>\n",
       "  <tbody>\n",
       "    <tr>\n",
       "      <th>ratio</th>\n",
       "      <td>1.22021</td>\n",
       "      <td>1.06395</td>\n",
       "      <td>1.77778</td>\n",
       "      <td>2.24198</td>\n",
       "      <td>3.624</td>\n",
       "      <td>12.4545</td>\n",
       "      <td>NaN</td>\n",
       "    </tr>\n",
       "  </tbody>\n",
       "</table>\n",
       "</div>"
      ],
      "text/plain": [
       "      GABRIEL BETTEREDGE MISS CLACK MATHEW BRUFF FRANKLIN BLAKE EZRA JENNINGS  \\\n",
       "ratio            1.22021    1.06395      1.77778        2.24198         3.624   \n",
       "\n",
       "      SERGEANT CUFF MR. CANDY  \n",
       "ratio       12.4545       NaN  "
      ]
     },
     "execution_count": 28,
     "metadata": {},
     "output_type": "execute_result"
    }
   ],
   "source": [
    "df"
   ]
  },
  {
   "cell_type": "markdown",
   "metadata": {},
   "source": [
    "#### My finding\n",
    "Make a function to calculate the ratio of male pronouns to female pronouns. Then use that to test the male/female pronoun ratio of each narrator (you can treat Betteredge's two narratives as one). Create a chart with your results.\n",
    "* The average ratio is 7.29, which indicates that male pronoun's frequency is significantly higher than female pronoun's. Indeed, the main characters in this story are mostly male. So the result is not surprising.\n",
    "* At the same time, the ratios of different narrators vary a lot. The highest is nearly three times as many as the lowest. Since personal pronouns are strongly associated with the names of people, I write a function to roughly get the names which appear in each narrative. The function and the result of each narrator are as followed.\n",
    "    * As the one whose ratio is highest, Sergeant Cuff mentions *Godfrey*, *Ablewhite* and *Luker* a lot. And *Verinder* is the only female he mentions, the time of which is greatly smaller than the males. Considering the reasons for this result from the perspective of plot, when it came to the Sergeant Cuff's narrative, the truth has surfaced. Rachel is cleared of the crime and the person who really stole the moonstone is identified as Mr.Godfrey. As a meticulous sergeant, his narrative naturally revolves around the real thief.\n",
    "    * The narrative of Mr.Candy is very short, so the data of his narrative may be less representative, and to some extent influence the overall result.\n",
    "    * The ratio of Betteredge and Miss Clack is the lowest. \n",
    "        * Thanks to Rosanna Spearman and Rachel, the male/female pronoun ratio of Betteredge's narrative is not too high. It is not hard to see that in the early period of the story, they are worthy being regarded as protagonists.\n",
    "        * When it comes to Miss Clack's narrative, there is no sign of Rosanna. The only main female character is Miss Rachel and her mother Miss Verinder, who is the aunt of Miss Clack also appear frequently. Miss Clack actually pays \"special\" attention to Rachel, which can be seen as bias to some extent. Meanwhile, we can also say that this is her unique perspective as the only female narrator."
   ]
  },
  {
   "cell_type": "code",
   "execution_count": 29,
   "metadata": {},
   "outputs": [],
   "source": [
    "def getNames(narr):\n",
    "    names=[]\n",
    "    sents=nltk.sent_tokenize(narr)\n",
    "    for sent in sents:\n",
    "        words=nltk.word_tokenize(sent)\n",
    "        validWords=[word for word in words if word[0].isupper() and word not in stopwords.words('English')]\n",
    "        likelyNames=[pair[0] for pair in nltk.pos_tag(validWords) if pair[1]=='NNP']\n",
    "        if likelyNames!=[]:\n",
    "            names.append(','.join(likelyNames))\n",
    "    return collections.Counter(','.join(names).split(',')).most_common(20)"
   ]
  },
  {
   "cell_type": "code",
   "execution_count": 30,
   "metadata": {},
   "outputs": [
    {
     "name": "stdout",
     "output_type": "stream",
     "text": [
      "[('Mr.', 72), ('Godfrey', 38), ('Ablewhite', 29), ('Luker', 24), ('Diamond', 13), ('Verinder', 12), ('Moonstone', 8), ('Miss', 8), ('June', 5), ('London', 5), ('Lady', 3), ('February', 3), ('Bruff', 3), ('Narrative', 2), ('CUFF', 2), ('July', 2), ('Blake', 2), ('Report', 2), ('Coroner', 2), ('Inquest', 2)]\n"
     ]
    },
    {
     "data": {
      "text/plain": [
       "<matplotlib.axes._subplots.AxesSubplot at 0x1a1a39c550>"
      ]
     },
     "execution_count": 30,
     "metadata": {},
     "output_type": "execute_result"
    },
    {
     "data": {
      "image/png": "[encoded data removed]",
      "text/plain": [
       "<Figure size 432x288 with 1 Axes>"
      ]
     },
     "metadata": {},
     "output_type": "display_data"
    }
   ],
   "source": [
    "result=getNames(cuff)\n",
    "print(result)\n",
    "ratio=[res[1] for res in result]\n",
    "name=[res[0] for res in result]\n",
    "df=pd.DataFrame(ratio,index=name,columns=['time'])\n",
    "df.plot(kind='barh')"
   ]
  },
  {
   "cell_type": "code",
   "execution_count": 31,
   "metadata": {},
   "outputs": [
    {
     "data": {
      "text/plain": [
       "[('Mr.', 5),\n",
       " ('Franklin', 4),\n",
       " ('Blake', 4),\n",
       " ('CANDY', 2),\n",
       " ('Wednesday', 2),\n",
       " ('Miss', 2),\n",
       " ('Verinder', 2),\n",
       " ('Narrative', 1),\n",
       " ('Letter', 1),\n",
       " ('MR.', 1),\n",
       " ('Frizinghall', 1),\n",
       " ('September', 1),\n",
       " ('Don', 1),\n",
       " ('Candy–don', 1),\n",
       " ('Diary–in', 1),\n",
       " ('God', 1),\n",
       " ('Kiss', 1),\n",
       " ('Journal', 1),\n",
       " ('THOMAS', 1)]"
      ]
     },
     "execution_count": 31,
     "metadata": {},
     "output_type": "execute_result"
    }
   ],
   "source": [
    "getNames(candy)"
   ]
  },
  {
   "cell_type": "code",
   "execution_count": 32,
   "metadata": {},
   "outputs": [
    {
     "data": {
      "text/plain": [
       "[('Mr.', 343),\n",
       " ('Bruff', 93),\n",
       " ('Betteredge', 87),\n",
       " ('Franklin', 74),\n",
       " ('Rachel', 73),\n",
       " ('Candy', 69),\n",
       " ('Sergeant', 67),\n",
       " ('Blake', 61),\n",
       " ('Cuff', 44),\n",
       " ('Ezra', 40),\n",
       " ('Miss', 35),\n",
       " ('Verinder', 35),\n",
       " ('London', 33),\n",
       " ('Jennings', 33),\n",
       " ('Diamond', 31),\n",
       " ('Rosanna', 27),\n",
       " ('Mrs.', 25),\n",
       " ('Gooseberry', 25),\n",
       " ('Spearman', 24),\n",
       " ('Luker', 23)]"
      ]
     },
     "execution_count": 32,
     "metadata": {},
     "output_type": "execute_result"
    }
   ],
   "source": [
    "getNames(blake1+blake2)"
   ]
  },
  {
   "cell_type": "code",
   "execution_count": 33,
   "metadata": {},
   "outputs": [
    {
     "data": {
      "text/plain": [
       "[('Mr.', 617),\n",
       " ('Franklin', 394),\n",
       " ('Sergeant', 233),\n",
       " ('Rachel', 199),\n",
       " ('Miss', 192),\n",
       " ('Rosanna', 168),\n",
       " ('Cuff', 146),\n",
       " ('Betteredge', 106),\n",
       " ('Diamond', 97),\n",
       " ('Spearman', 80),\n",
       " ('Verinder', 65),\n",
       " ('Colonel', 63),\n",
       " ('Penelope', 57),\n",
       " ('Blake', 55),\n",
       " ('London', 52),\n",
       " ('Godfrey', 50),\n",
       " ('Seegrave', 37),\n",
       " ('Mrs.', 36),\n",
       " ('Moonstone', 33),\n",
       " ('Frizinghall', 33)]"
      ]
     },
     "execution_count": 33,
     "metadata": {},
     "output_type": "execute_result"
    }
   ],
   "source": [
    "getNames(betteredge1+betteredge2)"
   ]
  },
  {
   "cell_type": "code",
   "execution_count": 34,
   "metadata": {},
   "outputs": [
    {
     "data": {
      "text/plain": [
       "[('Mr.', 241),\n",
       " ('Godfrey', 111),\n",
       " ('Rachel', 77),\n",
       " ('Miss', 76),\n",
       " ('Ablewhite', 76),\n",
       " ('Bruff', 57),\n",
       " ('Verinder', 53),\n",
       " ('Clack', 48),\n",
       " ('Luker', 40),\n",
       " ('Blake', 27),\n",
       " ('London', 27),\n",
       " ('Franklin', 22),\n",
       " ('Lady', 20),\n",
       " ('Aunt', 18),\n",
       " ('Montagu', 13),\n",
       " ('Square', 13),\n",
       " ('Moonstone', 12),\n",
       " ('Street', 10),\n",
       " ('Me', 9),\n",
       " ('Diamond', 9)]"
      ]
     },
     "execution_count": 34,
     "metadata": {},
     "output_type": "execute_result"
    }
   ],
   "source": [
    "getNames(clack)"
   ]
  }
 ],
 "metadata": {
  "kernelspec": {
   "display_name": "Python 3",
   "language": "python",
   "name": "python3"
  },
  "language_info": {
   "codemirror_mode": {
    "name": "ipython",
    "version": 3
   },
   "file_extension": ".py",
   "mimetype": "text/x-python",
   "name": "python",
   "nbconvert_exporter": "python",
   "pygments_lexer": "ipython3",
   "version": "3.6.5"
  }
 },
 "nbformat": 4,
 "nbformat_minor": 2
}
