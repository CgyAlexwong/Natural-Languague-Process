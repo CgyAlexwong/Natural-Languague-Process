{
 "cells": [
  {
   "cell_type": "markdown",
   "metadata": {},
   "source": [
    "# Homework 1\n",
    "\n",
    "Replace \"Yourname\" in the title of this notebook with your first name, and replace \"your name here\" below, as well. \n",
    "\n",
    "## Your name here\n",
    "\n",
    "Instructions: complete all problems 1-8, and run the cell containing your solution, to show that it works. You should be able to run \"restart and run all\" from the Kernel menu, and have it output the correct solutions. The bonus problem is optional. \n",
    "\n",
    "### 1. Using this inventory of delicious produce: "
   ]
  },
  {
   "cell_type": "code",
   "execution_count": 2,
   "metadata": {},
   "outputs": [],
   "source": [
    "fruit = {\"apples\": 2, \"oranges\": 10, \"bananas\": 50}"
   ]
  },
  {
   "cell_type": "markdown",
   "metadata": {},
   "source": [
    "...write a line of Python that gets the number of oranges (10)."
   ]
  },
  {
   "cell_type": "code",
   "execution_count": 3,
   "metadata": {},
   "outputs": [
    {
     "data": {
      "text/plain": [
       "10"
      ]
     },
     "execution_count": 3,
     "metadata": {},
     "output_type": "execute_result"
    }
   ],
   "source": [
    "# Enter code here. \n",
    "fruit['oranges']"
   ]
  },
  {
   "cell_type": "markdown",
   "metadata": {},
   "source": [
    "### 2. Given the dictionary below, get the name of the second chapter from the second period. \n",
    "\n",
    "Your code should output `Chapter 2`. "
   ]
  },
  {
   "cell_type": "code",
   "execution_count": 4,
   "metadata": {},
   "outputs": [],
   "source": [
    "chapters = {\"First Period\": ['Chapter I', 'Chapter II', 'Chapter III'], \n",
    "            \"Second Period\": ['Chapter 1', 'Chapter 2', 'Chapter 3']}"
   ]
  },
  {
   "cell_type": "code",
   "execution_count": 8,
   "metadata": {},
   "outputs": [
    {
     "data": {
      "text/plain": [
       "'Chapter 2'"
      ]
     },
     "execution_count": 8,
     "metadata": {},
     "output_type": "execute_result"
    }
   ],
   "source": [
    "# Enter code here. \n",
    "chapters['Second Period'][1]"
   ]
  },
  {
   "cell_type": "markdown",
   "metadata": {},
   "source": [
    "### 3. Split the following string, `heapsOfBooks`, on semicolons. \n",
    "\n",
    "The output should be: \n",
    "\n",
    "```\n",
    "['I am not superstitious',\n",
    " ' I have read a heap of books in my time',\n",
    " ' I am a scholar in my own way.']\n",
    "``` "
   ]
  },
  {
   "cell_type": "code",
   "execution_count": 9,
   "metadata": {},
   "outputs": [],
   "source": [
    "heapsOfBooks = \"I am not superstitious; I have read a heap of books in my time; I am a scholar in my own way.\""
   ]
  },
  {
   "cell_type": "code",
   "execution_count": 11,
   "metadata": {},
   "outputs": [],
   "source": [
    "clauses = heapsOfBooks.split(';')"
   ]
  },
  {
   "cell_type": "markdown",
   "metadata": {},
   "source": [
    "### 4. Split each output of the string above, `heapsOfBooks`, into words (i.e. split along spaces). Your output should be this list of lists: \n",
    "\n",
    "```\n",
    "[['I', 'am', 'not', 'superstitious'],\n",
    " ['I', 'have', 'read', 'a', 'heap', 'of', 'books', 'in', 'my', 'time'],\n",
    " ['I', 'am', 'a', 'scholar', 'in', 'my', 'own', 'way.']]\n",
    "```\n"
   ]
  },
  {
   "cell_type": "code",
   "execution_count": 12,
   "metadata": {},
   "outputs": [
    {
     "data": {
      "text/plain": [
       "list"
      ]
     },
     "execution_count": 12,
     "metadata": {},
     "output_type": "execute_result"
    }
   ],
   "source": [
    "type(clauses)"
   ]
  },
  {
   "cell_type": "code",
   "execution_count": 13,
   "metadata": {},
   "outputs": [
    {
     "data": {
      "text/plain": [
       "3"
      ]
     },
     "execution_count": 13,
     "metadata": {},
     "output_type": "execute_result"
    }
   ],
   "source": [
    "len(clauses)"
   ]
  },
  {
   "cell_type": "code",
   "execution_count": 22,
   "metadata": {},
   "outputs": [],
   "source": [
    "listOfClauses = []\n",
    "for clause in clauses: \n",
    "    listOfClauses.append(clause.split())"
   ]
  },
  {
   "cell_type": "code",
   "execution_count": 23,
   "metadata": {},
   "outputs": [
    {
     "data": {
      "text/plain": [
       "[['I', 'am', 'not', 'superstitious'],\n",
       " ['I', 'have', 'read', 'a', 'heap', 'of', 'books', 'in', 'my', 'time'],\n",
       " ['I', 'am', 'a', 'scholar', 'in', 'my', 'own', 'way.']]"
      ]
     },
     "execution_count": 23,
     "metadata": {},
     "output_type": "execute_result"
    }
   ],
   "source": [
    "listOfClauses"
   ]
  },
  {
   "cell_type": "markdown",
   "metadata": {},
   "source": [
    "### A list comprehension"
   ]
  },
  {
   "cell_type": "code",
   "execution_count": 24,
   "metadata": {},
   "outputs": [
    {
     "data": {
      "text/plain": [
       "[['I', 'am', 'not', 'superstitious'],\n",
       " ['I', 'have', 'read', 'a', 'heap', 'of', 'books', 'in', 'my', 'time'],\n",
       " ['I', 'am', 'a', 'scholar', 'in', 'my', 'own', 'way.']]"
      ]
     },
     "execution_count": 24,
     "metadata": {},
     "output_type": "execute_result"
    }
   ],
   "source": [
    "[clause.split() for clause in clauses]"
   ]
  },
  {
   "cell_type": "markdown",
   "metadata": {},
   "source": [
    "### 5. Write a little program that takes the user's name, and returns that name spelled backwards, but with the capital letter on the first letter, and with a lowercase final letter. For example: \n",
    "\n",
    "```\n",
    "What's your name: Jonathan\n",
    "Your name backwards is Nahtanoj!\n",
    "```\n",
    "\n",
    "Hint: use the `input()` function. "
   ]
  },
  {
   "cell_type": "code",
   "execution_count": 25,
   "metadata": {},
   "outputs": [
    {
     "data": {
      "text/plain": [
       "'gnirts'"
      ]
     },
     "execution_count": 25,
     "metadata": {},
     "output_type": "execute_result"
    }
   ],
   "source": [
    "\"string\"[::-1]"
   ]
  },
  {
   "cell_type": "code",
   "execution_count": 34,
   "metadata": {},
   "outputs": [
    {
     "data": {
      "text/plain": [
       "'gnirts'"
      ]
     },
     "execution_count": 34,
     "metadata": {},
     "output_type": "execute_result"
    }
   ],
   "source": [
    "listOfLetters = list(\"string\")\n",
    "listOfLetters.reverse()\n",
    "\"\".join(listOfLetters)"
   ]
  },
  {
   "cell_type": "code",
   "execution_count": 35,
   "metadata": {},
   "outputs": [
    {
     "data": {
      "text/plain": [
       "'apples---oranges---kiwis'"
      ]
     },
     "execution_count": 35,
     "metadata": {},
     "output_type": "execute_result"
    }
   ],
   "source": [
    "\"---\".join([\"apples\", \"oranges\", \"kiwis\"])"
   ]
  },
  {
   "cell_type": "code",
   "execution_count": 36,
   "metadata": {},
   "outputs": [
    {
     "data": {
      "text/plain": [
       "'gnirts'"
      ]
     },
     "execution_count": 36,
     "metadata": {},
     "output_type": "execute_result"
    }
   ],
   "source": [
    "reversedString = \"\"\n",
    "for letter in listOfLetters: \n",
    "    reversedString += letter\n",
    "reversedString"
   ]
  },
  {
   "cell_type": "code",
   "execution_count": 38,
   "metadata": {},
   "outputs": [
    {
     "data": {
      "text/plain": [
       "'Egderetteb'"
      ]
     },
     "execution_count": 38,
     "metadata": {},
     "output_type": "execute_result"
    }
   ],
   "source": [
    "nameReversed = \"\"\n",
    "for letter in \"Betteredge\": \n",
    "    nameReversed = letter + nameReversed\n",
    "nameReversed.capitalize()"
   ]
  },
  {
   "cell_type": "code",
   "execution_count": 39,
   "metadata": {},
   "outputs": [
    {
     "name": "stdin",
     "output_type": "stream",
     "text": [
      "What's your name?  Jonathan\n"
     ]
    },
    {
     "name": "stdout",
     "output_type": "stream",
     "text": [
      "Your name reversed is: Nahtanoj\n"
     ]
    }
   ],
   "source": [
    "name = input(\"What's your name? \")\n",
    "nameReversed = \"\"\n",
    "for letter in name:\n",
    "    nameReversed = letter + nameReversed\n",
    "print(\"Your name reversed is: \" + nameReversed.capitalize())"
   ]
  },
  {
   "cell_type": "markdown",
   "metadata": {},
   "source": [
    "### 6. Add a few more fruits to the `fruit` dictionary above. Then use that data to create a string like this: \n",
    "\n",
    "```\n",
    "I went to the store yesterday and I bought 2 apples, 10 oranges, 5 limes, and 50 bananas. \n",
    "Because I really, really like bananas.\n",
    "```\n",
    "\n",
    "Note that before the final item in the series, there is the word \"and.\" "
   ]
  },
  {
   "cell_type": "code",
   "execution_count": 41,
   "metadata": {},
   "outputs": [],
   "source": [
    "fruit['kiwi'] = 20\n",
    "fruit['nectarines'] = 3"
   ]
  },
  {
   "cell_type": "code",
   "execution_count": 42,
   "metadata": {},
   "outputs": [
    {
     "data": {
      "text/plain": [
       "{'apples': 2, 'oranges': 10, 'bananas': 50, 'kiwi': 20, 'nectarines': 3}"
      ]
     },
     "execution_count": 42,
     "metadata": {},
     "output_type": "execute_result"
    }
   ],
   "source": [
    "fruit"
   ]
  },
  {
   "cell_type": "code",
   "execution_count": 52,
   "metadata": {},
   "outputs": [
    {
     "name": "stdout",
     "output_type": "stream",
     "text": [
      "I went to the store yesterday and I bought \n",
      "2 apples, 10 oranges, 50 bananas, 20 kiwi, and 3 nectarines\n"
     ]
    }
   ],
   "source": [
    "print(\"I went to the store yesterday and I bought \")\n",
    "for item in fruit: \n",
    "    #print(str(fruit[item]) + \" \" + item)\n",
    "    #if item == 'nectarines': \n",
    "    if item == list(fruit.keys())[-1]:\n",
    "        print(\"and {} {}\".format(fruit[item], item))\n",
    "    else:\n",
    "        print(\"{} {},\".format(fruit[item], item), end=' ')"
   ]
  },
  {
   "cell_type": "code",
   "execution_count": 56,
   "metadata": {},
   "outputs": [
    {
     "data": {
      "text/plain": [
       "'nectarines'"
      ]
     },
     "execution_count": 56,
     "metadata": {},
     "output_type": "execute_result"
    }
   ],
   "source": [
    "list(fruit.keys())[-1]"
   ]
  },
  {
   "cell_type": "markdown",
   "metadata": {},
   "source": [
    "### 7. Using a table of contents for _The Moonstone_, compose a list of lists that shows the hierarchical structure of the novel.\n",
    " \n",
    "And write a sentence or two (in a markdown cell) with anything you notice about this structure. "
   ]
  },
  {
   "cell_type": "code",
   "execution_count": 59,
   "metadata": {},
   "outputs": [],
   "source": [
    "moonstone = {\"Prologue\": ['Chapter 1', \n",
    "                          'Chapter 2'],\n",
    "             \"Story\": {\"First Period\": \n",
    "                       ['Chapter 1']\n",
    "                      }}"
   ]
  },
  {
   "cell_type": "markdown",
   "metadata": {},
   "source": [
    "Enter markdown here. "
   ]
  },
  {
   "cell_type": "markdown",
   "metadata": {},
   "source": [
    "### 8. Write 1-2 paragraphs about something you notice happening in _The Moonstone_ that you think might be operationalized (i.e. tested using a computational analysis). \n",
    "\n",
    "And also, what do you think the results of the analysis will be? "
   ]
  },
  {
   "cell_type": "markdown",
   "metadata": {},
   "source": [
    "Enter markdown here. "
   ]
  },
  {
   "cell_type": "markdown",
   "metadata": {},
   "source": [
    "### Bonus: write some code to correct one of the formatting problems in _The Moonstone_. \n",
    "\n",
    "Input: Any string (like The Moonstone) that contains a sequence of ALL CAPS LIKE THIS. \n",
    "Output: That same string, but with ALL CAPS replaced with `_Title Case Markdown Italics_`. Note that in title case, certain short prepositions and articles are not capitalized, as in `_Raiders of the Lost Ark_`. \n",
    "\n",
    "Example input: `When my spirits are bad–ROBINSON CRUSOE. When I want advice–ROBINSON CRUSOE.`\n",
    "Example output: `When my spirits are bad—_Robinson Crusoe_. When I want advice—_Robinson Crusoe_.`\n",
    "\n",
    "Hint: you can add spaces around punctuation to make words easier to work with, then remove the spaces after you're done. "
   ]
  },
  {
   "cell_type": "code",
   "execution_count": 16,
   "metadata": {},
   "outputs": [],
   "source": [
    "# Enter code here. "
   ]
  }
 ],
 "metadata": {
  "kernelspec": {
   "display_name": "Python 3",
   "language": "python",
   "name": "python3"
  },
  "language_info": {
   "codemirror_mode": {
    "name": "ipython",
    "version": 3
   },
   "file_extension": ".py",
   "mimetype": "text/x-python",
   "name": "python",
   "nbconvert_exporter": "python",
   "pygments_lexer": "ipython3",
   "version": "3.7.3"
  }
 },
 "nbformat": 4,
 "nbformat_minor": 2
}
