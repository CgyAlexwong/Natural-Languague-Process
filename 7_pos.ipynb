{
 "cells": [
  {
   "cell_type": "markdown",
   "metadata": {},
   "source": [
    "# Parts of Speech\n",
    "\n",
    "Here, we'll be using the NLTK to guess the parts of speech for our texts. Common parts of speech for English include nouns (people, places, things), verbs (actions), and adjectives (descriptions). Here's a more complete list of parts of speech, taken from [this UPenn page](https://ling.upenn.edu/courses/Fall_2003/ling001/penn_treebank_pos.html). The abbreviations here are those used by the NLTK POS tagger, `nltk.pos_tag()`. \n",
    "\n",
    "1.\tCC\tCoordinating conjunction\n",
    "2.\tCD\tCardinal number\n",
    "3.\tDT\tDeterminer\n",
    "4.\tEX\tExistential there\n",
    "5.\tFW\tForeign word\n",
    "6.\tIN\tPreposition or subordinating conjunction\n",
    "7.\tJJ\tAdjective\n",
    "8.\tJJR\tAdjective, comparative\n",
    "9.\tJJS\tAdjective, superlative\n",
    "10.\tLS\tList item marker\n",
    "11.\tMD\tModal\n",
    "12.\tNN\tNoun, singular or mass\n",
    "13.\tNNS\tNoun, plural\n",
    "14.\tNNP\tProper noun, singular\n",
    "15.\tNNPS\tProper noun, plural\n",
    "16.\tPDT\tPredeterminer\n",
    "17.\tPOS\tPossessive ending\n",
    "18.\tPRP\tPersonal pronoun\n",
    "19.\tPRP\\$\tPossessive pronoun\n",
    "20.\tRB\tAdverb\n",
    "21.\tRBR\tAdverb, comparative\n",
    "22.\tRBS\tAdverb, superlative\n",
    "23.\tRP\tParticle\n",
    "24.\tSYM\tSymbol\n",
    "25.\tTO\tto\n",
    "26.\tUH\tInterjection\n",
    "27.\tVB\tVerb, base form\n",
    "28.\tVBD\tVerb, past tense\n",
    "29.\tVBG\tVerb, gerund or present participle\n",
    "30.\tVBN\tVerb, past participle\n",
    "31.\tVBP\tVerb, non-3rd person singular present\n",
    "32.\tVBZ\tVerb, 3rd person singular present\n",
    "33.\tWDT\tWh-determiner\n",
    "34.\tWP\tWh-pronoun\n",
    "35.\tWP\\$\tPossessive wh-pronoun\n",
    "36.\tWRB\tWh-adverb\n",
    "\n",
    "Ok. First, import all our usual stuff, and also `pos_tag()`. "
   ]
  },
  {
   "cell_type": "code",
   "execution_count": 1,
   "metadata": {},
   "outputs": [],
   "source": [
    "import nltk\n",
    "import requests\n",
    "import collections\n",
    "import numpy as np\n",
    "import pandas as pd\n",
    "%matplotlib inline"
   ]
  },
  {
   "cell_type": "code",
   "execution_count": 2,
   "metadata": {},
   "outputs": [
    {
     "data": {
      "text/plain": [
       "[('t', 'NN'),\n",
       " ('o', 'MD'),\n",
       " ('k', 'VB'),\n",
       " ('e', 'JJ'),\n",
       " ('n', 'NNS'),\n",
       " ('s', 'VBP')]"
      ]
     },
     "execution_count": 2,
     "metadata": {},
     "output_type": "execute_result"
    }
   ],
   "source": [
    "testSentence='The quick brown fox I justed over the lazy word'\n",
    "tokens=nltk.word_tokenize(testSentence)\n",
    "nltk.pos_tag(\"tokens\")"
   ]
  },
  {
   "cell_type": "code",
   "execution_count": 3,
   "metadata": {},
   "outputs": [],
   "source": [
    "response = requests.get(\"https://raw.githubusercontent.com/JonathanReeve/course-computational-literary-analysis/gh-pages/_texts/garden-party.md\")\n",
    "gardenBook = response.text"
   ]
  },
  {
   "cell_type": "code",
   "execution_count": 4,
   "metadata": {},
   "outputs": [],
   "source": [
    "gardenParts = gardenBook.split(\"2. THE GARDEN PARTY\")"
   ]
  },
  {
   "cell_type": "code",
   "execution_count": 5,
   "metadata": {},
   "outputs": [
    {
     "data": {
      "text/plain": [
       "'.\\n--------------------\\n\\nAnd after all the weather was ideal. They could not have had a more\\nperfect '"
      ]
     },
     "execution_count": 5,
     "metadata": {},
     "output_type": "execute_result"
    }
   ],
   "source": [
    "gardenParts[1][:100]"
   ]
  },
  {
   "cell_type": "code",
   "execution_count": 6,
   "metadata": {},
   "outputs": [],
   "source": [
    "garden = gardenParts[1].split(\"3. THE\")[0]"
   ]
  },
  {
   "cell_type": "code",
   "execution_count": 7,
   "metadata": {},
   "outputs": [
    {
     "data": {
      "text/plain": [
       "29973"
      ]
     },
     "execution_count": 7,
     "metadata": {},
     "output_type": "execute_result"
    }
   ],
   "source": [
    "open(\"garden.md\", 'w').write(garden)"
   ]
  },
  {
   "cell_type": "code",
   "execution_count": 8,
   "metadata": {},
   "outputs": [
    {
     "data": {
      "text/plain": [
       "6997"
      ]
     },
     "execution_count": 8,
     "metadata": {},
     "output_type": "execute_result"
    }
   ],
   "source": [
    "gardenTokens = nltk.word_tokenize(garden)\n",
    "len(gardenTokens)"
   ]
  },
  {
   "cell_type": "code",
   "execution_count": 9,
   "metadata": {},
   "outputs": [
    {
     "data": {
      "text/plain": [
       "182"
      ]
     },
     "execution_count": 9,
     "metadata": {},
     "output_type": "execute_result"
    }
   ],
   "source": [
    "gardenParas = garden.split(\"\\n\\n\")\n",
    "len(gardenParas)"
   ]
  },
  {
   "cell_type": "code",
   "execution_count": 10,
   "metadata": {},
   "outputs": [],
   "source": [
    "gardenParts = gardenParas[:45], gardenParas[45:90], gardenParas[90:135], gardenParas[135: 150], gardenParas[150:]"
   ]
  },
  {
   "cell_type": "code",
   "execution_count": 11,
   "metadata": {},
   "outputs": [
    {
     "data": {
      "text/plain": [
       "5"
      ]
     },
     "execution_count": 11,
     "metadata": {},
     "output_type": "execute_result"
    }
   ],
   "source": [
    "len(gardenParts)"
   ]
  },
  {
   "cell_type": "code",
   "execution_count": 12,
   "metadata": {},
   "outputs": [
    {
     "data": {
      "text/plain": [
       "[45, 45, 45, 15, 32]"
      ]
     },
     "execution_count": 12,
     "metadata": {},
     "output_type": "execute_result"
    }
   ],
   "source": [
    "[len(a) for a in gardenParts]"
   ]
  },
  {
   "cell_type": "code",
   "execution_count": 20,
   "metadata": {},
   "outputs": [],
   "source": [
    "gardenTags = nltk.pos_tag(gardenTokens)\n",
    "tags = []\n",
    "for i in gardentags:\n",
    "    tags.append(i[1])"
   ]
  },
  {
   "cell_type": "code",
   "execution_count": 21,
   "metadata": {},
   "outputs": [
    {
     "data": {
      "text/plain": [
       "[('NN', 762),\n",
       " ('.', 604),\n",
       " ('DT', 536),\n",
       " ('PRP', 523),\n",
       " ('IN', 513),\n",
       " ('VBD', 512),\n",
       " (',', 438),\n",
       " ('RB', 391),\n",
       " ('JJ', 351),\n",
       " ('NNP', 287),\n",
       " ('VB', 233),\n",
       " (\"''\", 201),\n",
       " ('``', 193),\n",
       " ('CC', 189),\n",
       " ('NNS', 187),\n",
       " ('PRP$', 134),\n",
       " ('VBP', 119),\n",
       " ('TO', 118),\n",
       " ('VBN', 106),\n",
       " ('VBG', 103)]"
      ]
     },
     "execution_count": 21,
     "metadata": {},
     "output_type": "execute_result"
    }
   ],
   "source": [
    "collections.Counter(tags).most_common(20)"
   ]
  },
  {
   "cell_type": "code",
   "execution_count": 25,
   "metadata": {},
   "outputs": [],
   "source": [
    "counters = [collections.Counter(pile) for pile in np.array_split(np.array(tags), 20)]"
   ]
  },
  {
   "cell_type": "code",
   "execution_count": 26,
   "metadata": {},
   "outputs": [
    {
     "data": {
      "text/plain": [
       "<matplotlib.axes._subplots.AxesSubplot at 0x103af9748>"
      ]
     },
     "execution_count": 26,
     "metadata": {},
     "output_type": "execute_result"
    },
    {
     "data": {
      "image/png": "[encoded data removed]",
      "text/plain": [
       "<Figure size 720x720 with 1 Axes>"
      ]
     },
     "metadata": {},
     "output_type": "display_data"
    }
   ],
   "source": [
    "df = pd.DataFrame(counters).fillna(0)\n",
    "df[['VBD', 'VBP', 'VBZ']].plot(figsize=(10,10))"
   ]
  },
  {
   "cell_type": "code",
   "execution_count": 34,
   "metadata": {},
   "outputs": [],
   "source": [
    "# pos: Part Of Speech\n",
    "# ('in','PRP')\n",
    "# ('the','DET')\n",
    "# ('__', 'NN')\n",
    "def inTheNN(pairs):\n",
    "    \"\"\" This function taks (token, POS) pairs and \n",
    "        looks for patterns like \"in the house\" \n",
    "    \"\"\"\n",
    "    matches = []\n",
    "    for i, pair in enumerate(pairs):\n",
    "        word = pair[0]\n",
    "        pos = pair[1]\n",
    "        if i < len(pairs)-3:\n",
    "            nextWord = pairs[i+1][0]\n",
    "            nextNextWord = pairs[i+2][0]\n",
    "            nextNextPOS = pairs[i+2][1]\n",
    "            if word == \"in\" and nextWord == \"the\" and nextNextPOS == \"NN\":\n",
    "                matches.append([word, nextWord, nextNextWord])\n",
    "    return matches"
   ]
  },
  {
   "cell_type": "code",
   "execution_count": 35,
   "metadata": {},
   "outputs": [
    {
     "data": {
      "text/plain": [
       "[['in', 'the', 'direction'],\n",
       " ['in', 'the', 'eye'],\n",
       " ['in', 'the', 'eye'],\n",
       " ['in', 'the', 'house'],\n",
       " ['in', 'the', 'window'],\n",
       " ['in', 'the', 'effort'],\n",
       " ['in', 'the', 'lane'],\n",
       " ['in', 'the', 'garden'],\n",
       " ['in', 'the', 'mirror'],\n",
       " ['in', 'the', 'newspaper'],\n",
       " ['in', 'the', 'middle'],\n",
       " ['in', 'the', 'porch'],\n",
       " ['in', 'the', 'lane'],\n",
       " ['in', 'the', 'hollow'],\n",
       " ['in', 'the', 'gloom'],\n",
       " ['in', 'the', 'passage'],\n",
       " ['in', 'the', 'kitchen'],\n",
       " ['in', 'the', 'passage'],\n",
       " ['in', 'the', 'pillow']]"
      ]
     },
     "execution_count": 35,
     "metadata": {},
     "output_type": "execute_result"
    }
   ],
   "source": [
    "inTheNN(gardenTags)"
   ]
  },
  {
   "cell_type": "code",
   "execution_count": 36,
   "metadata": {},
   "outputs": [],
   "source": [
    "def likeANN(pairs):\n",
    "    \"\"\" This function taks (token, POS) pairs and \n",
    "        looks for patterns like \"in the house\" \n",
    "    \"\"\"\n",
    "    matches = []\n",
    "    for i, pair in enumerate(pairs):\n",
    "        word = pair[0]\n",
    "        pos = pair[1]\n",
    "        if i < len(pairs)-3:\n",
    "            nextWord = pairs[i+1][0]\n",
    "            nextNextWord = pairs[i+2][0]\n",
    "            nextNextPOS = pairs[i+2][1]\n",
    "            if word == \"like\" and nextWord == \"a\" and nextNextPOS == \"NN\":\n",
    "                matches.append([word, nextWord, nextNextWord])\n",
    "    return matches"
   ]
  },
  {
   "cell_type": "code",
   "execution_count": 37,
   "metadata": {},
   "outputs": [
    {
     "data": {
      "text/plain": [
       "[['like', 'a', 'marquee'],\n",
       " ['like', 'a', 'work-girl'],\n",
       " ['like', 'a', 'picture'],\n",
       " ['like', 'a', 'shadow'],\n",
       " ['like', 'a', 'look']]"
      ]
     },
     "execution_count": 37,
     "metadata": {},
     "output_type": "execute_result"
    }
   ],
   "source": [
    "likeANN(gardenTags)"
   ]
  },
  {
   "cell_type": "code",
   "execution_count": 45,
   "metadata": {},
   "outputs": [
    {
     "data": {
      "text/html": [
       "<div>\n",
       "<style scoped>\n",
       "    .dataframe tbody tr th:only-of-type {\n",
       "        vertical-align: middle;\n",
       "    }\n",
       "\n",
       "    .dataframe tbody tr th {\n",
       "        vertical-align: top;\n",
       "    }\n",
       "\n",
       "    .dataframe thead th {\n",
       "        text-align: right;\n",
       "    }\n",
       "</style>\n",
       "<table border=\"1\" class=\"dataframe\">\n",
       "  <thead>\n",
       "    <tr style=\"text-align: right;\">\n",
       "      <th></th>\n",
       "      <th>0</th>\n",
       "      <th>1</th>\n",
       "    </tr>\n",
       "  </thead>\n",
       "  <tbody>\n",
       "    <tr>\n",
       "      <th>0</th>\n",
       "      <td>little</td>\n",
       "      <td>23</td>\n",
       "    </tr>\n",
       "    <tr>\n",
       "      <th>1</th>\n",
       "      <td>big</td>\n",
       "      <td>8</td>\n",
       "    </tr>\n",
       "    <tr>\n",
       "      <th>2</th>\n",
       "      <td>dark</td>\n",
       "      <td>6</td>\n",
       "    </tr>\n",
       "    <tr>\n",
       "      <th>3</th>\n",
       "      <td>good</td>\n",
       "      <td>6</td>\n",
       "    </tr>\n",
       "    <tr>\n",
       "      <th>4</th>\n",
       "      <td>tall</td>\n",
       "      <td>5</td>\n",
       "    </tr>\n",
       "    <tr>\n",
       "      <th>5</th>\n",
       "      <td>last</td>\n",
       "      <td>5</td>\n",
       "    </tr>\n",
       "    <tr>\n",
       "      <th>6</th>\n",
       "      <td>such</td>\n",
       "      <td>5</td>\n",
       "    </tr>\n",
       "    <tr>\n",
       "      <th>7</th>\n",
       "      <td>young</td>\n",
       "      <td>5</td>\n",
       "    </tr>\n",
       "    <tr>\n",
       "      <th>8</th>\n",
       "      <td>poor</td>\n",
       "      <td>5</td>\n",
       "    </tr>\n",
       "    <tr>\n",
       "      <th>9</th>\n",
       "      <td>green</td>\n",
       "      <td>4</td>\n",
       "    </tr>\n",
       "    <tr>\n",
       "      <th>10</th>\n",
       "      <td>right</td>\n",
       "      <td>4</td>\n",
       "    </tr>\n",
       "    <tr>\n",
       "      <th>11</th>\n",
       "      <td>nice</td>\n",
       "      <td>4</td>\n",
       "    </tr>\n",
       "    <tr>\n",
       "      <th>12</th>\n",
       "      <td>small</td>\n",
       "      <td>4</td>\n",
       "    </tr>\n",
       "    <tr>\n",
       "      <th>13</th>\n",
       "      <td>same</td>\n",
       "      <td>4</td>\n",
       "    </tr>\n",
       "    <tr>\n",
       "      <th>14</th>\n",
       "      <td>extravagant</td>\n",
       "      <td>4</td>\n",
       "    </tr>\n",
       "    <tr>\n",
       "      <th>15</th>\n",
       "      <td>perfect</td>\n",
       "      <td>3</td>\n",
       "    </tr>\n",
       "    <tr>\n",
       "      <th>16</th>\n",
       "      <td>garden-party</td>\n",
       "      <td>3</td>\n",
       "    </tr>\n",
       "    <tr>\n",
       "      <th>17</th>\n",
       "      <td>dear</td>\n",
       "      <td>3</td>\n",
       "    </tr>\n",
       "    <tr>\n",
       "      <th>18</th>\n",
       "      <td>better</td>\n",
       "      <td>3</td>\n",
       "    </tr>\n",
       "    <tr>\n",
       "      <th>19</th>\n",
       "      <td>broad</td>\n",
       "      <td>3</td>\n",
       "    </tr>\n",
       "  </tbody>\n",
       "</table>\n",
       "</div>"
      ],
      "text/plain": [
       "               0   1\n",
       "0         little  23\n",
       "1            big   8\n",
       "2           dark   6\n",
       "3           good   6\n",
       "4           tall   5\n",
       "5           last   5\n",
       "6           such   5\n",
       "7          young   5\n",
       "8           poor   5\n",
       "9          green   4\n",
       "10         right   4\n",
       "11          nice   4\n",
       "12         small   4\n",
       "13          same   4\n",
       "14   extravagant   4\n",
       "15       perfect   3\n",
       "16  garden-party   3\n",
       "17          dear   3\n",
       "18        better   3\n",
       "19         broad   3"
      ]
     },
     "execution_count": 45,
     "metadata": {},
     "output_type": "execute_result"
    }
   ],
   "source": [
    "adjective=[]\n",
    "for pair in gardenTags:\n",
    "    word=pair[0]\n",
    "    pos=pair[1]\n",
    "    if pos.startswith('J'):\n",
    "        adjective.append(word)\n",
    "Counter=collections.Counter(adjective).most_common(20)\n",
    "pd.DataFrame(C)"
   ]
  },
  {
   "cell_type": "code",
   "execution_count": null,
   "metadata": {},
   "outputs": [],
   "source": []
  }
 ],
 "metadata": {
  "kernelspec": {
   "display_name": "Python 3",
   "language": "python",
   "name": "python3"
  },
  "language_info": {
   "codemirror_mode": {
    "name": "ipython",
    "version": 3
   },
   "file_extension": ".py",
   "mimetype": "text/x-python",
   "name": "python",
   "nbconvert_exporter": "python",
   "pygments_lexer": "ipython3",
   "version": "3.6.5"
  }
 },
 "nbformat": 4,
 "nbformat_minor": 2
}
